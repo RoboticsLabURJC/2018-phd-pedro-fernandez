import numpy as np
import time
#Defining Grid

#defining action variables
up=0
down=1
left=2
right=3

#no. of states and no. of variables
noS=4*4
noA=4

S=range(noS)

reward =-1    #for every step

terminal_state = lambda s: s==0 or s==noS-1  #first and last state terminal
wall=[]

P=dict() #transition probabilities

for s in S:
    P[s]=dict()
    
    if (terminal_state(s)):
        P[s][up]=(s,1.0,0.0)   # next_state, probability, reward
        P[s][down]=(s,1.0,0.0)
        P[s][right]=(s,1.0,0.0)
        P[s][left]=(s,1.0,0.0)
    else:
        next_s= s if(s<4) else s-4
        if next_s in wall:
            P[s][up]=(s,1.0,-1000.0)
        else:
            P[s][up]=(next_s,1.0,reward)
        
        next_s= s if(16-s<=4) else s+4
        if next_s in wall:
            P[s][down]=(s,1.0,-1000.0)
        else:
            P[s][down]=(next_s,1.0,reward)
        
        next_s= s if((s+1)%4==0) else s+1
        if next_s in wall:
            P[s][right]=(s,1.0,-1000.0)
        else:
            P[s][right]=(next_s,1.0,reward)
        
        next_s= s if(s%4==0) else s-1
        if next_s in wall:
            P[s][left]=(s,1.0,-1000.0)
        else:
            P[s][left]=(next_s,1.0,reward)
        
        
print 'No. of states in grid: ', noS
print 'No. of action options in each state:', noA
Action_Index=dict()
Action_Index[0]='up'
Action_Index[1]='down'
Action_Index[2]='left'
Action_Index[3]='right'
Action_Index[5]='terminal states (stay)'
Action_Index[7]='wall'

print 'Index for actions:'
for k,v in Action_Index.items():
    print k,":",v