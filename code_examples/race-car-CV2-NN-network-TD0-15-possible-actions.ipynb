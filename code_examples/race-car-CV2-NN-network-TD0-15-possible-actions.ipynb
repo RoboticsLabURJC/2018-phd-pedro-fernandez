{
 "cells": [
  {
   "cell_type": "markdown",
   "metadata": {},
   "source": [
    "## Deep-Q Learning using Simple Feedfoward Neural Network\n",
    "\n",
    "The solution crops the output pixel matrix to isolate the racing car and track for one, and isolates the sensor readers in second place.  The top part (track and car) and quantized to b/w and flatten out to a 1D vector.  The bottom part, i.e. the sensors output (steering, g, speed, abs) is analysed and the various sensors output and numerized.  A single feature vector is created by merging the two parts into one.  This approach is less fancy than using a CONV NN merged with a FFNN, but requies less process power and less episodes to get to a certain learning plateau.\n",
    "\n",
    "As for the output of the nn, we have descrtized it into 9 possible actions: 7 steering (neutral, 3 right, 3 left) and 2 power, 50% brake or 33% gaz.  i.e. this means that the car cannot steer and power on at the same time.  Nor can it apply brake and gaz at the same time.  This reduces significantly the solution space. \n",
    "\n",
    "Enjoy,\n",
    "\n",
    "Luc Prieur"
   ]
  },
  {
   "cell_type": "code",
   "execution_count": 1,
   "metadata": {},
   "outputs": [
    {
     "name": "stderr",
     "output_type": "stream",
     "text": [
      "Using TensorFlow backend.\n"
     ]
    }
   ],
   "source": [
    "import gym\n",
    "import os\n",
    "import sys\n",
    "import numpy as np\n",
    "import matplotlib.pyplot as plt\n",
    "from gym import wrappers\n",
    "from datetime import datetime\n",
    "import random\n",
    "from sklearn.preprocessing import StandardScaler\n",
    "from keras.models import Sequential\n",
    "from keras.layers import Dense, Dropout, Activation\n",
    "from keras.layers import Embedding\n",
    "from keras.optimizers import SGD, RMSprop, Adam, Adamax\n",
    "from keras.layers import Dense, Dropout, Activation, Flatten\n",
    "from keras.layers import Convolution2D, MaxPooling2D\n",
    "from keras.layers import Merge\n",
    "from keras.utils import np_utils\n",
    "from keras.models import load_model\n",
    "import cv2"
   ]
  },
  {
   "cell_type": "code",
   "execution_count": 2,
   "metadata": {
    "collapsed": true
   },
   "outputs": [],
   "source": [
    "def plot_running_avg(totalrewards):\n",
    "  N = len(totalrewards)\n",
    "  running_avg = np.empty(N)\n",
    "  for t in range(N):\n",
    "    running_avg[t] = totalrewards[max(0, t-100):(t+1)].mean()\n",
    "  plt.plot(running_avg)\n",
    "  plt.title(\"Running Average\")\n",
    "  plt.show()"
   ]
  },
  {
   "cell_type": "raw",
   "metadata": {},
   "source": [
    "gym.envs.register(\n",
    "    id='CarRacing-custom-v0',\n",
    "    entry_point='gym.envs.box2d:CarRacing',\n",
    ")"
   ]
  },
  {
   "cell_type": "code",
   "execution_count": 3,
   "metadata": {},
   "outputs": [
    {
     "name": "stderr",
     "output_type": "stream",
     "text": [
      "[2017-08-30 12:45:02,904] Making new env: CarRacing-v0\n"
     ]
    }
   ],
   "source": [
    "env = gym.make('CarRacing-v0')"
   ]
  },
  {
   "cell_type": "code",
   "execution_count": 4,
   "metadata": {},
   "outputs": [
    {
     "name": "stderr",
     "output_type": "stream",
     "text": [
      "[2017-08-30 12:45:03,105] Clearing 15 monitor files from previous run (because force=True was provided)\n"
     ]
    }
   ],
   "source": [
    "env = wrappers.Monitor(env, 'monitor-folder', force=True)"
   ]
  },
  {
   "cell_type": "code",
   "execution_count": 5,
   "metadata": {
    "collapsed": true
   },
   "outputs": [],
   "source": [
    "def transform(s):\n",
    "#     cv2.imshow('original', s)\n",
    "#     cv2.waitKey(1)\n",
    "\n",
    "    # crop_img = img[200:400, 100:300] # Crop from x, y, w, h -> 100, 200, 300, 400\n",
    "    # NOTE: its img[y: y + h, x: x + w] and *not* img[x: x + w, y: y + h]\n",
    "    # bottom_black_bar is the section of the screen with steering, speed, abs and gyro information.\n",
    "    # we crop off the digits on the right as they are illigible, even for ml.\n",
    "    # since color is irrelavent, we grayscale it.\n",
    "    bottom_black_bar = s[84:, 12:]\n",
    "    img = cv2.cvtColor(bottom_black_bar, cv2.COLOR_RGB2GRAY)\n",
    "    bottom_black_bar_bw = cv2.threshold(img, 1, 255, cv2.THRESH_BINARY)[1]\n",
    "    bottom_black_bar_bw = cv2.resize(bottom_black_bar_bw, (84, 12), interpolation = cv2.INTER_NEAREST)\n",
    "    \n",
    "    # upper_field = observation[:84, :96] # this is the section of the screen that contains the track.\n",
    "    upper_field = s[:84, 6:90] # we crop side of screen as they carry little information\n",
    "    img = cv2.cvtColor(upper_field, cv2.COLOR_RGB2GRAY)\n",
    "    upper_field_bw = cv2.threshold(img, 120, 255, cv2.THRESH_BINARY)[1]\n",
    "    upper_field_bw = cv2.resize(upper_field_bw, (10, 10), interpolation = cv2.INTER_NEAREST) # re scaled to 7x7 pixels\n",
    "#     cv2.imshow('video', upper_field_bw)\n",
    "#     cv2.waitKey(1)\n",
    "    upper_field_bw = upper_field_bw.astype('float')/255\n",
    "        \n",
    "    car_field = s[66:78, 43:53]\n",
    "    img = cv2.cvtColor(car_field, cv2.COLOR_RGB2GRAY)\n",
    "    car_field_bw = cv2.threshold(img, 80, 255, cv2.THRESH_BINARY)[1]\n",
    "\n",
    "#     print(car_field_bw[:, 3].mean()/255, car_field_bw[:, 4].mean()/255, car_field_bw[:, 5].mean()/255, car_field_bw[:, 6].mean()/255)\n",
    "    car_field_t = [car_field_bw[:, 3].mean()/255, car_field_bw[:, 4].mean()/255, car_field_bw[:, 5].mean()/255, car_field_bw[:, 6].mean()/255]\n",
    "    \n",
    "#     rotated_image = rotateImage(car_field_bw, 45)\n",
    "#     cv2.imshow('video rotated', rotated_image)\n",
    "#     cv2.waitKey(1)\n",
    "\n",
    "    return bottom_black_bar_bw, upper_field_bw, car_field_t"
   ]
  },
  {
   "cell_type": "code",
   "execution_count": 6,
   "metadata": {
    "collapsed": true
   },
   "outputs": [],
   "source": [
    "# this function uses the bottom black bar of the screen and extracts steering setting, speed and gyro data\n",
    "def compute_steering_speed_gyro_abs(a):\n",
    "    right_steering = a[6, 36:46].mean()/255\n",
    "    left_steering = a[6, 26:36].mean()/255\n",
    "    steering = (right_steering - left_steering + 1.0)/2\n",
    "    \n",
    "    left_gyro = a[6, 46:60].mean()/255\n",
    "    right_gyro = a[6, 60:76].mean()/255\n",
    "    gyro = (right_gyro - left_gyro + 1.0)/2\n",
    "    \n",
    "    speed = a[:, 0][:-2].mean()/255\n",
    "    abs1 = a[:, 6][:-2].mean()/255\n",
    "    abs2 = a[:, 8][:-2].mean()/255\n",
    "    abs3 = a[:, 10][:-2].mean()/255\n",
    "    abs4 = a[:, 12][:-2].mean()/255\n",
    "    \n",
    "#     white = np.ones((round(speed * 100), 10))\n",
    "#     black = np.zeros((round(100 - speed * 100), 10))\n",
    "#     speed_display = np.concatenate((black, white))*255\n",
    "        \n",
    "#     cv2.imshow('sensors', speed_display)\n",
    "#     cv2.waitKey(1)\n",
    "\n",
    "    \n",
    "    return [steering, speed, gyro, abs1, abs2, abs3, abs4]"
   ]
  },
  {
   "cell_type": "code",
   "execution_count": 7,
   "metadata": {
    "collapsed": true
   },
   "outputs": [],
   "source": [
    "vector_size = 10*10 + 7 + 4"
   ]
  },
  {
   "cell_type": "code",
   "execution_count": 8,
   "metadata": {},
   "outputs": [],
   "source": [
    "def create_nn():\n",
    "    if os.path.exists('race-car.h5'):\n",
    "        return load_model('race-car.h5')\n",
    "        \n",
    "    model = Sequential()\n",
    "    model.add(Dense(512, init='lecun_uniform', input_shape=(vector_size,)))# 7x7 + 3.  or 14x14 + 3\n",
    "    model.add(Activation('relu'))\n",
    "\n",
    "#     model.add(Dense(512, init='lecun_uniform'))\n",
    "#     model.add(Activation('relu'))\n",
    "#     model.add(Dropout(0.3))\n",
    "\n",
    "    model.add(Dense(11, init='lecun_uniform'))\n",
    "    model.add(Activation('linear')) #linear output so we can have range of real-valued outputs\n",
    "\n",
    "#     rms = RMSprop(lr=0.005)\n",
    "#     sgd = SGD(lr=0.1, decay=0.0, momentum=0.0, nesterov=False)\n",
    "# try \"adam\"\n",
    "#     adam = Adam(lr=0.0005)\n",
    "    adamax = Adamax() #Adamax(lr=0.001)\n",
    "    model.compile(loss='mse', optimizer=adamax)\n",
    "    model.summary()\n",
    "    \n",
    "    return model"
   ]
  },
  {
   "cell_type": "code",
   "execution_count": 9,
   "metadata": {
    "collapsed": true
   },
   "outputs": [],
   "source": [
    "class Model:\n",
    "    def __init__(self, env):\n",
    "        self.env = env\n",
    "        self.model = create_nn()  # one feedforward nn for all actions.\n",
    "\n",
    "    def predict(self, s):\n",
    "        return self.model.predict(s.reshape(-1, vector_size), verbose=0)[0]\n",
    "\n",
    "    def update(self, s, G):\n",
    "        self.model.fit(s.reshape(-1, vector_size), np.array(G).reshape(-1, 11), nb_epoch=1, verbose=0)\n",
    "\n",
    "    def sample_action(self, s, eps):\n",
    "        qval = self.predict(s)\n",
    "        if np.random.random() < eps:\n",
    "            return random.randint(0, 10), qval\n",
    "        else:\n",
    "            return np.argmax(qval), qval"
   ]
  },
  {
   "cell_type": "code",
   "execution_count": 10,
   "metadata": {},
   "outputs": [],
   "source": [
    "def convert_argmax_qval_to_env_action(output_value):\n",
    "    # we reduce the action space to 15 values.  9 for steering, 6 for gaz/brake.\n",
    "    # to reduce the action space, gaz and brake cannot be applied at the same time.\n",
    "    # as well, steering input and gaz/brake cannot be applied at the same time.\n",
    "    # similarly to real life drive, you brake/accelerate in straight line, you coast while sterring.\n",
    "    \n",
    "    gaz = 0.0\n",
    "    brake = 0.0\n",
    "    steering = 0.0\n",
    "    \n",
    "    # output value ranges from 0 to 10\n",
    "    \n",
    "    if output_value <= 8:\n",
    "        # steering. brake and gaz are zero.\n",
    "        output_value -= 4\n",
    "        steering = float(output_value)/4\n",
    "    elif output_value >= 9 and output_value <= 9:\n",
    "        output_value -= 8\n",
    "        gaz = float(output_value)/3 # 33% \n",
    "    elif output_value >= 10 and output_value <= 10:\n",
    "        output_value -= 9\n",
    "        brake = float(output_value)/2 # 50% brakes\n",
    "    else:\n",
    "        print(\"error\")\n",
    "        \n",
    "    white = np.ones((round(brake * 100), 10))\n",
    "    black = np.zeros((round(100 - brake * 100), 10))\n",
    "    brake_display = np.concatenate((black, white))*255  \n",
    "    \n",
    "    white = np.ones((round(gaz * 100), 10))\n",
    "    black = np.zeros((round(100 - gaz * 100), 10))\n",
    "    gaz_display = np.concatenate((black, white))*255\n",
    "        \n",
    "    control_display = np.concatenate((brake_display, gaz_display), axis=1)\n",
    "\n",
    "    cv2.imshow('controls', control_display)\n",
    "    cv2.waitKey(1)\n",
    "    \n",
    "    return [steering, gaz, brake]"
   ]
  },
  {
   "cell_type": "code",
   "execution_count": 11,
   "metadata": {},
   "outputs": [],
   "source": [
    "def play_one(env, model, eps, gamma):\n",
    "    observation = env.reset()\n",
    "    done = False\n",
    "    full_reward_received = False\n",
    "    totalreward = 0\n",
    "    iters = 0\n",
    "    while not done:\n",
    "        a, b, c = transform(observation)\n",
    "        state = np.concatenate((np.array([compute_steering_speed_gyro_abs(a)]).reshape(1,-1).flatten(), b.reshape(1,-1).flatten(), c), axis=0) # this is 3 + 7*7 size vector.  all scaled in range 0..1      \n",
    "        argmax_qval, qval = model.sample_action(state, eps)\n",
    "        prev_state = state\n",
    "        action = convert_argmax_qval_to_env_action(argmax_qval)\n",
    "        observation, reward, done, info = env.step(action)\n",
    "\n",
    "        a, b, c = transform(observation)        \n",
    "        state = np.concatenate((np.array([compute_steering_speed_gyro_abs(a)]).reshape(1,-1).flatten(), b.reshape(1,-1).flatten(), c), axis=0) # this is 3 + 7*7 size vector.  all scaled in range 0..1      \n",
    "        \n",
    "        # update the model\n",
    "        # standard Q learning TD(0)\n",
    "        next_qval = model.predict(state)\n",
    "        G = reward + gamma*np.max(next_qval)\n",
    "        y = qval[:]\n",
    "        y[argmax_qval] = G\n",
    "        model.update(prev_state, y)\n",
    "        totalreward += reward\n",
    "        iters += 1\n",
    "        \n",
    "        if iters > 1500:\n",
    "            print(\"This episode is stuck\")\n",
    "            break\n",
    "        \n",
    "    return totalreward, iters\n"
   ]
  },
  {
   "cell_type": "code",
   "execution_count": 12,
   "metadata": {
    "collapsed": true
   },
   "outputs": [
    {
     "name": "stdout",
     "output_type": "stream",
     "text": [
      "Track generation: 1262..1590 -> 328-tiles track\n"
     ]
    },
    {
     "name": "stderr",
     "output_type": "stream",
     "text": [
      "[2017-08-30 12:45:06,781] Starting new video recorder writing to C:\\Users\\lucpr\\Documents\\nn\\rl\\monitor-folder\\openaigym.video.0.12248.video000000.mp4\n",
      "[2017-08-30 12:46:13,405] Starting new video recorder writing to C:\\Users\\lucpr\\Documents\\nn\\rl\\monitor-folder\\openaigym.video.0.12248.video000001.mp4\n"
     ]
    },
    {
     "name": "stdout",
     "output_type": "stream",
     "text": [
      "episode: 0 iters 1000 total reward: 34.55657492355014 eps: 0.0166574151163 avg reward (last 100): 34.5565749236\n",
      "Track generation: 1191..1493 -> 302-tiles track\n",
      "episode: 1 iters 1000 total reward: 232.22591362126767 eps: 0.0166481789553 avg reward (last 100): 133.391244272\n",
      "Track generation: 1148..1438 -> 290-tiles track\n",
      "retry to generate track (normal if there are not many of this messages)\n",
      "Track generation: 1271..1594 -> 323-tiles track\n",
      "episode: 2 iters 1000 total reward: 182.60869565217476 eps: 0.016638958141 avg reward (last 100): 149.797061399\n",
      "Track generation: 1384..1734 -> 350-tiles track\n",
      "episode: 3 iters 1000 total reward: 172.20630372493304 eps: 0.0166297526309 avg reward (last 100): 155.39937198\n",
      "Track generation: 1067..1340 -> 273-tiles track\n",
      "retry to generate track (normal if there are not many of this messages)\n",
      "Track generation: 1183..1483 -> 300-tiles track\n",
      "episode: 4 iters 1000 total reward: 308.0267558528279 eps: 0.0166205623829 avg reward (last 100): 185.924848755\n",
      "Track generation: 1008..1264 -> 256-tiles track\n",
      "episode: 5 iters 1000 total reward: 366.66666666665054 eps: 0.0166113873546 avg reward (last 100): 216.048485074\n",
      "Track generation: 1051..1327 -> 276-tiles track\n",
      "episode: 6 iters 1000 total reward: 85.45454545455041 eps: 0.0166022275043 avg reward (last 100): 197.392207985\n",
      "Track generation: 1076..1356 -> 280-tiles track\n"
     ]
    },
    {
     "name": "stderr",
     "output_type": "stream",
     "text": [
      "[2017-08-30 12:50:17,243] Starting new video recorder writing to C:\\Users\\lucpr\\Documents\\nn\\rl\\monitor-folder\\openaigym.video.0.12248.video000008.mp4\n"
     ]
    },
    {
     "name": "stdout",
     "output_type": "stream",
     "text": [
      "episode: 7 iters 1000 total reward: 32.61648745519621 eps: 0.01659308279 avg reward (last 100): 176.795242919\n",
      "Track generation: 1100..1379 -> 279-tiles track\n",
      "episode: 8 iters 1000 total reward: 439.5683453237243 eps: 0.0165839531702 avg reward (last 100): 205.992254297\n",
      "Track generation: 1175..1472 -> 297-tiles track\n",
      "episode: 9 iters 1000 total reward: 349.324324324327 eps: 0.0165748386033 avg reward (last 100): 220.3254613\n",
      "Track generation: 1121..1405 -> 284-tiles track\n",
      "episode: 10 iters 1000 total reward: 670.3180212013995 eps: 0.0165657390481 avg reward (last 100): 261.233875836\n",
      "Track generation: 1191..1493 -> 302-tiles track\n",
      "episode: 11 iters 1000 total reward: 255.48172757474578 eps: 0.0165566544633 avg reward (last 100): 260.754530148\n",
      "Track generation: 1183..1483 -> 300-tiles track\n",
      "episode: 12 iters 1000 total reward: 465.2173913043428 eps: 0.016547584808 avg reward (last 100): 276.482442545\n",
      "Track generation: 1054..1321 -> 267-tiles track\n",
      "episode: 13 iters 1000 total reward: 257.1428571428441 eps: 0.0165385300414 avg reward (last 100): 275.101043587\n",
      "Track generation: 1037..1308 -> 271-tiles track\n",
      "episode: 14 iters 1000 total reward: 311.1111111111131 eps: 0.0165294901227 avg reward (last 100): 277.501714756\n",
      "Track generation: 980..1229 -> 249-tiles track\n",
      "episode: 15 iters 1000 total reward: 190.32258064516427 eps: 0.0165204650114 avg reward (last 100): 272.053018874\n",
      "Track generation: 1235..1548 -> 313-tiles track\n",
      "episode: 16 iters 1000 total reward: 307.05128205127266 eps: 0.0165114546671 avg reward (last 100): 274.111740237\n",
      "Track generation: 1127..1413 -> 286-tiles track\n",
      "episode: 17 iters 1000 total reward: 303.50877192980863 eps: 0.0165024590496 avg reward (last 100): 275.744908664\n",
      "Track generation: 1122..1406 -> 284-tiles track\n",
      "episode: 18 iters 1000 total reward: 719.787985865709 eps: 0.0164934781189 avg reward (last 100): 299.115596938\n",
      "Track generation: 1061..1330 -> 269-tiles track\n",
      "episode: 19 iters 1000 total reward: 355.2238805969982 eps: 0.0164845118349 avg reward (last 100): 301.921011121\n",
      "Track generation: 1043..1308 -> 265-tiles track\n",
      "episode: 20 iters 1000 total reward: 320.45454545452964 eps: 0.016475560158 avg reward (last 100): 302.803560375\n",
      "Track generation: 1145..1435 -> 290-tiles track\n",
      "episode: 21 iters 1000 total reward: 391.34948096884375 eps: 0.0164666230485 avg reward (last 100): 306.828374948\n",
      "Track generation: 1147..1438 -> 291-tiles track\n",
      "episode: 22 iters 1000 total reward: 382.75862068964545 eps: 0.0164577004669 avg reward (last 100): 310.12968998\n",
      "Track generation: 1164..1459 -> 295-tiles track\n",
      "episode: 23 iters 1000 total reward: 522.4489795918266 eps: 0.016448792374 avg reward (last 100): 318.976327047\n",
      "Track generation: 918..1159 -> 241-tiles track\n",
      "episode: 24 iters 1000 total reward: 83.3333333333384 eps: 0.0164398987305 avg reward (last 100): 309.550607298\n",
      "Track generation: 1102..1388 -> 286-tiles track\n",
      "episode: 25 iters 1000 total reward: 247.36842105263563 eps: 0.0164310194975 avg reward (last 100): 307.158984751\n",
      "Track generation: 1172..1469 -> 297-tiles track\n"
     ]
    },
    {
     "name": "stderr",
     "output_type": "stream",
     "text": [
      "[2017-08-30 13:00:51,352] Starting new video recorder writing to C:\\Users\\lucpr\\Documents\\nn\\rl\\monitor-folder\\openaigym.video.0.12248.video000027.mp4\n"
     ]
    },
    {
     "name": "stdout",
     "output_type": "stream",
     "text": [
      "episode: 26 iters 1000 total reward: 481.08108108107143 eps: 0.0164221546361 avg reward (last 100): 313.600543874\n",
      "Track generation: 1115..1412 -> 297-tiles track\n",
      "retry to generate track (normal if there are not many of this messages)\n",
      "Track generation: 1071..1343 -> 272-tiles track\n",
      "episode: 27 iters 1000 total reward: 483.0258302582919 eps: 0.0164133041075 avg reward (last 100): 319.651446959\n",
      "Track generation: 1155..1448 -> 293-tiles track\n",
      "episode: 28 iters 1000 total reward: 533.5616438356016 eps: 0.0164044678731 avg reward (last 100): 327.027660644\n",
      "Track generation: 1295..1623 -> 328-tiles track\n",
      "episode: 29 iters 1000 total reward: 169.1131498470986 eps: 0.0163956458946 avg reward (last 100): 321.763843618\n",
      "Track generation: 1001..1261 -> 260-tiles track\n",
      "episode: 30 iters 1000 total reward: 347.8764478764433 eps: 0.0163868381336 avg reward (last 100): 322.606185691\n",
      "Track generation: 1256..1581 -> 325-tiles track\n",
      "episode: 31 iters 1000 total reward: 412.34567901234556 eps: 0.016378044552 avg reward (last 100): 325.410544857\n",
      "Track generation: 1276..1599 -> 323-tiles track\n",
      "episode: 32 iters 1000 total reward: 465.2173913043311 eps: 0.0163692651118 avg reward (last 100): 329.647115961\n",
      "Track generation: 1260..1537 -> 277-tiles track\n",
      "retry to generate track (normal if there are not many of this messages)\n",
      "Track generation: 1009..1272 -> 263-tiles track\n",
      "episode: 33 iters 1000 total reward: 335.11450381679396 eps: 0.0163604997751 avg reward (last 100): 329.807921487\n",
      "Track generation: 1120..1408 -> 288-tiles track\n",
      "retry to generate track (normal if there are not many of this messages)\n",
      "Track generation: 1221..1530 -> 309-tiles track\n",
      "episode: 34 iters 1000 total reward: 218.18181818182256 eps: 0.0163517485042 avg reward (last 100): 326.618604249\n",
      "Track generation: 1105..1385 -> 280-tiles track\n",
      "episode: 35 iters 1000 total reward: 283.51254480285263 eps: 0.0163430112615 avg reward (last 100): 325.421213709\n",
      "Track generation: 1271..1593 -> 322-tiles track\n",
      "episode: 36 iters 1000 total reward: 223.98753894080977 eps: 0.0163342880096 avg reward (last 100): 322.67976304\n",
      "Track generation: 1149..1440 -> 291-tiles track\n",
      "episode: 37 iters 1000 total reward: 189.65517241379715 eps: 0.0163255787112 avg reward (last 100): 319.179115918\n",
      "Track generation: 1120..1404 -> 284-tiles track\n",
      "episode: 38 iters 1000 total reward: 511.30742049468563 eps: 0.0163168833291 avg reward (last 100): 324.105482702\n",
      "Track generation: 1222..1531 -> 309-tiles track\n",
      "episode: 39 iters 1000 total reward: 188.96103896104364 eps: 0.0163082018263 avg reward (last 100): 320.726871609\n",
      "Track generation: 1437..1800 -> 363-tiles track\n",
      "episode: 40 iters 1000 total reward: 187.29281767956337 eps: 0.016299534166 avg reward (last 100): 317.472382488\n",
      "Track generation: 1391..1743 -> 352-tiles track\n",
      "episode: 41 iters 1000 total reward: 159.25925925926387 eps: 0.0162908803113 avg reward (last 100): 313.705403364\n",
      "Track generation: 1190..1492 -> 302-tiles track\n",
      "episode: 42 iters 1000 total reward: 175.74750830565304 eps: 0.0162822402256 avg reward (last 100): 310.497080223\n",
      "Track generation: 1193..1495 -> 302-tiles track\n",
      "episode: 43 iters 1000 total reward: 461.46179401991685 eps: 0.0162736138726 avg reward (last 100): 313.928096446\n",
      "Track generation: 1212..1519 -> 307-tiles track\n",
      "episode: 44 iters 1000 total reward: 677.777777777765 eps: 0.0162650012158 avg reward (last 100): 322.01364492\n",
      "Track generation: 996..1253 -> 257-tiles track\n",
      "retry to generate track (normal if there are not many of this messages)\n",
      "Track generation: 1091..1368 -> 277-tiles track\n",
      "episode: 45 iters 1000 total reward: 381.8840579709998 eps: 0.0162564022191 avg reward (last 100): 323.315175638\n",
      "Track generation: 1051..1324 -> 273-tiles track\n",
      "episode: 46 iters 1000 total reward: 271.3235294117657 eps: 0.0162478168463 avg reward (last 100): 322.208970399\n",
      "Track generation: 1140..1429 -> 289-tiles track\n",
      "episode: 47 iters 1000 total reward: 448.61111111110506 eps: 0.0162392450615 avg reward (last 100): 324.842348331\n",
      "Track generation: 1031..1299 -> 268-tiles track\n",
      "episode: 48 iters 1000 total reward: 338.2022471910108 eps: 0.016230686829 avg reward (last 100): 325.114999328\n",
      "Track generation: 1199..1503 -> 304-tiles track\n",
      "episode: 49 iters 1000 total reward: 589.768976897684 eps: 0.0162221421131 avg reward (last 100): 330.408078879\n",
      "Track generation: 1159..1453 -> 294-tiles track\n",
      "episode: 50 iters 1000 total reward: 746.4163822525405 eps: 0.0162136108781 avg reward (last 100): 338.565104436\n",
      "Track generation: 1118..1401 -> 283-tiles track\n",
      "episode: 51 iters 1000 total reward: 293.6170212765808 eps: 0.0162050930888 avg reward (last 100): 337.700718221\n",
      "Track generation: 1072..1344 -> 272-tiles track\n",
      "episode: 52 iters 1000 total reward: 530.9963099630864 eps: 0.0161965887098 avg reward (last 100): 341.347804858\n",
      "Track generation: 1152..1444 -> 292-tiles track\n",
      "episode: 53 iters 1000 total reward: 260.82474226802736 eps: 0.016188097706 avg reward (last 100): 339.856637032\n",
      "Track generation: 1130..1423 -> 293-tiles track\n",
      "episode: 54 iters 1000 total reward: 358.9041095890418 eps: 0.0161796200423 avg reward (last 100): 340.202954715\n",
      "Track generation: 1219..1528 -> 309-tiles track\n",
      "episode: 55 iters 1000 total reward: 257.14285714284347 eps: 0.0161711556838 avg reward (last 100): 338.719738687\n",
      "Track generation: 1323..1658 -> 335-tiles track\n",
      "episode: 56 iters 1000 total reward: 465.86826347304566 eps: 0.0161627045959 avg reward (last 100): 340.95041456\n",
      "Track generation: 1171..1468 -> 297-tiles track\n",
      "episode: 57 iters 1000 total reward: 180.4054054054092 eps: 0.0161542667438 avg reward (last 100): 338.182397161\n",
      "Track generation: 1317..1650 -> 333-tiles track\n",
      "episode: 58 iters 1000 total reward: 267.469879518058 eps: 0.016145842093 avg reward (last 100): 336.983879913\n",
      "Track generation: 1110..1392 -> 282-tiles track\n",
      "episode: 59 iters 1000 total reward: 230.96085409252436 eps: 0.0161374306092 avg reward (last 100): 335.216829482\n",
      "Track generation: 1128..1414 -> 286-tiles track\n",
      "episode: 60 iters 1000 total reward: 342.10526315788746 eps: 0.0161290322581 avg reward (last 100): 335.329754625\n",
      "Track generation: 1176..1474 -> 298-tiles track\n",
      "episode: 61 iters 1000 total reward: 479.12457912456244 eps: 0.0161206470055 avg reward (last 100): 337.649025988\n",
      "Track generation: 1219..1528 -> 309-tiles track\n",
      "episode: 62 iters 1000 total reward: 162.98701298701764 eps: 0.0161122748174 avg reward (last 100): 334.876613083\n",
      "Track generation: 1292..1619 -> 327-tiles track\n"
     ]
    },
    {
     "name": "stderr",
     "output_type": "stream",
     "text": [
      "[2017-08-30 13:21:13,059] Starting new video recorder writing to C:\\Users\\lucpr\\Documents\\nn\\rl\\monitor-folder\\openaigym.video.0.12248.video000064.mp4\n"
     ]
    },
    {
     "name": "stdout",
     "output_type": "stream",
     "text": [
      "episode: 63 iters 1000 total reward: 424.53987730060754 eps: 0.01610391566 avg reward (last 100): 336.277601586\n",
      "Track generation: 1187..1488 -> 301-tiles track\n",
      "episode: 64 iters 1000 total reward: 539.999999999983 eps: 0.0160955694995 avg reward (last 100): 339.411792331\n",
      "Track generation: 1076..1349 -> 273-tiles track\n",
      "episode: 65 iters 1000 total reward: 403.6764705882202 eps: 0.0160872363022 avg reward (last 100): 340.385499577\n",
      "Track generation: 1370..1724 -> 354-tiles track\n",
      "episode: 66 iters 1000 total reward: 208.78186968838875 eps: 0.0160789160346 avg reward (last 100): 338.421266295\n",
      "Track generation: 1111..1393 -> 282-tiles track\n",
      "episode: 67 iters 1000 total reward: 213.1672597864786 eps: 0.0160706086633 avg reward (last 100): 336.579295611\n",
      "Track generation: 1073..1345 -> 272-tiles track\n",
      "episode: 68 iters 1000 total reward: 446.1254612545974 eps: 0.0160623141551 avg reward (last 100): 338.1669212\n",
      "Track generation: 1253..1570 -> 317-tiles track\n",
      "episode: 69 iters 1000 total reward: 399.99999999998636 eps: 0.0160540324767 avg reward (last 100): 339.050250898\n",
      "Track generation: 1189..1490 -> 301-tiles track\n",
      "episode: 70 iters 1000 total reward: 303.33333333332234 eps: 0.0160457635951 avg reward (last 100): 338.547195721\n",
      "Track generation: 1369..1715 -> 346-tiles track\n",
      "episode: 71 iters 1000 total reward: 204.34782608696003 eps: 0.0160375074775 avg reward (last 100): 336.683315587\n",
      "Track generation: 1061..1334 -> 273-tiles track\n",
      "retry to generate track (normal if there are not many of this messages)\n",
      "Track generation: 1058..1334 -> 276-tiles track\n",
      "episode: 72 iters 1000 total reward: 336.36363636363717 eps: 0.0160292640909 avg reward (last 100): 336.678936419\n",
      "Track generation: 1064..1334 -> 270-tiles track\n",
      "episode: 73 iters 1000 total reward: 167.6579925650597 eps: 0.0160210334028 avg reward (last 100): 334.394869611\n",
      "Track generation: 1071..1343 -> 272-tiles track\n",
      "episode: 74 iters 1000 total reward: 320.6642066420506 eps: 0.0160128153805 avg reward (last 100): 334.211794104\n",
      "Track generation: 1060..1331 -> 271-tiles track\n",
      "retry to generate track (normal if there are not many of this messages)\n",
      "Track generation: 1232..1544 -> 312-tiles track\n",
      "episode: 75 iters 1000 total reward: 144.372990353701 eps: 0.0160046099916 avg reward (last 100): 331.713915108\n",
      "Track generation: 1094..1371 -> 277-tiles track\n",
      "episode: 76 iters 1000 total reward: 367.39130434781066 eps: 0.0159964172038 avg reward (last 100): 332.177257825\n",
      "Track generation: 1180..1479 -> 299-tiles track\n",
      "episode: 77 iters 1000 total reward: 369.7986577181093 eps: 0.0159882369848 avg reward (last 100): 332.659583465\n",
      "Track generation: 1255..1573 -> 318-tiles track\n",
      "episode: 78 iters 1000 total reward: 306.9400630914817 eps: 0.0159800693025 avg reward (last 100): 332.334019916\n",
      "Track generation: 1073..1345 -> 272-tiles track\n",
      "episode: 79 iters 1000 total reward: 250.55350553505147 eps: 0.015971914125 avg reward (last 100): 331.311763486\n",
      "Track generation: 1035..1298 -> 263-tiles track\n",
      "episode: 80 iters 1000 total reward: 667.1755725190702 eps: 0.0159637714204 avg reward (last 100): 335.458230264\n",
      "Track generation: 1155..1448 -> 293-tiles track\n",
      "episode: 81 iters 1000 total reward: 427.397260273962 eps: 0.0159556411568 avg reward (last 100): 336.579437947\n",
      "Track generation: 1144..1434 -> 290-tiles track\n",
      "episode: 82 iters 1000 total reward: 439.7923875432428 eps: 0.0159475233027 avg reward (last 100): 337.82296746\n",
      "Track generation: 1353..1695 -> 342-tiles track\n",
      "episode: 83 iters 1000 total reward: 240.1759530791839 eps: 0.0159394178266 avg reward (last 100): 336.660503003\n",
      "Track generation: 1196..1499 -> 303-tiles track\n",
      "episode: 84 iters 1000 total reward: 512.5827814569415 eps: 0.0159313246969 avg reward (last 100): 338.730176868\n",
      "Track generation: 1123..1408 -> 285-tiles track\n",
      "episode: 85 iters 1000 total reward: 512.6760563380216 eps: 0.0159232438825 avg reward (last 100): 340.752803373\n",
      "Track generation: 1032..1299 -> 267-tiles track\n",
      "episode: 86 iters 1000 total reward: 264.6616541353229 eps: 0.015915175352 avg reward (last 100): 339.878192462\n",
      "Track generation: 1050..1323 -> 273-tiles track\n",
      "episode: 87 iters 1000 total reward: 422.0588235294081 eps: 0.0159071190744 avg reward (last 100): 340.81206327\n",
      "Track generation: 1312..1644 -> 332-tiles track\n",
      "episode: 88 iters 1000 total reward: 265.5589123867103 eps: 0.0158990750187 avg reward (last 100): 339.966522249\n",
      "Track generation: 1138..1426 -> 288-tiles track\n",
      "episode: 89 iters 1000 total reward: 394.7735191637532 eps: 0.0158910431541 avg reward (last 100): 340.575488881\n",
      "Track generation: 1183..1483 -> 300-tiles track\n",
      "episode: 90 iters 1000 total reward: 287.95986622072064 eps: 0.0158830234497 avg reward (last 100): 339.997295225\n",
      "Track generation: 1183..1483 -> 300-tiles track\n",
      "episode: 91 iters 1000 total reward: 107.35785953177773 eps: 0.015875015875 avg reward (last 100): 337.468605707\n",
      "Track generation: 1054..1321 -> 267-tiles track\n",
      "episode: 92 iters 1000 total reward: 648.1203007518607 eps: 0.0158670203994 avg reward (last 100): 340.808946514\n",
      "Track generation: 1179..1478 -> 299-tiles track\n",
      "episode: 93 iters 1000 total reward: 295.9731543624051 eps: 0.0158590369924 avg reward (last 100): 340.331970002\n",
      "Track generation: 1326..1661 -> 335-tiles track\n",
      "episode: 94 iters 1000 total reward: 181.4371257485079 eps: 0.0158510656237 avg reward (last 100): 338.659392694\n",
      "Track generation: 1402..1756 -> 354-tiles track\n",
      "episode: 95 iters 1000 total reward: 177.620396600571 eps: 0.0158431062631 avg reward (last 100): 336.981903151\n",
      "Track generation: 1087..1362 -> 275-tiles track\n",
      "episode: 96 iters 1000 total reward: 666.423357664216 eps: 0.0158351588805 avg reward (last 100): 340.378206806\n",
      "Track generation: 1283..1608 -> 325-tiles track\n",
      "episode: 97 iters 1000 total reward: 165.4320987654369 eps: 0.0158272234458 avg reward (last 100): 338.593042438\n",
      "Track generation: 1120..1404 -> 284-tiles track\n",
      "episode: 98 iters 1000 total reward: 2.4734982332150035 eps: 0.0158192999292 avg reward (last 100): 335.197895527\n",
      "Track generation: 1240..1554 -> 314-tiles track\n",
      "episode: 99 iters 1000 total reward: 229.07348242810934 eps: 0.0158113883008 avg reward (last 100): 334.136651396\n",
      "Track generation: 1047..1313 -> 266-tiles track\n",
      "episode: 100 iters 1000 total reward: 707.5471698113072 eps: 0.015803488531 avg reward (last 100): 337.833785242\n",
      "Track generation: 1317..1650 -> 333-tiles track\n",
      "episode: 101 iters 1000 total reward: 415.06024096384306 eps: 0.0157956005902 avg reward (last 100): 341.601148272\n",
      "avg reward for last 100 episodes: 342.694900618\n",
      "total steps: 34536.2725504\n"
     ]
    },
    {
     "data": {
      "image/png": "[encoded data removed]",
      "text/plain": [
       "<matplotlib.figure.Figure at 0x1cfa7a44f60>"
      ]
     },
     "metadata": {},
     "output_type": "display_data"
    },
    {
     "data": {
      "image/png": "[encoded data removed]",
      "text/plain": [
       "<matplotlib.figure.Figure at 0x1cfa357bba8>"
      ]
     },
     "metadata": {},
     "output_type": "display_data"
    }
   ],
   "source": [
    "# from IPython.display import clear_output\n",
    "\n",
    "model = Model(env)\n",
    "gamma = 0.99\n",
    "\n",
    "N = 102\n",
    "totalrewards = np.empty(N)\n",
    "costs = np.empty(N)\n",
    "for n in range(N):\n",
    "    eps = 0.5/np.sqrt(n+1 + 900) \n",
    "    totalreward, iters = play_one(env, model, eps, gamma)\n",
    "    totalrewards[n] = totalreward\n",
    "    if n % 1 == 0:\n",
    "      print(\"episode:\", n, \"iters\", iters, \"total reward:\", totalreward, \"eps:\", eps, \"avg reward (last 100):\", totalrewards[max(0, n-100):(n+1)].mean())        \n",
    "    if n % 10 == 0:\n",
    "        model.model.save('race-car.h5')\n",
    "\n",
    "print(\"avg reward for last 100 episodes:\", totalrewards[-100:].mean())\n",
    "print(\"total steps:\", totalrewards.sum())\n",
    "\n",
    "plt.plot(totalrewards)\n",
    "plt.title(\"Rewards\")\n",
    "plt.show()\n",
    "\n",
    "plot_running_avg(totalrewards)"
   ]
  },
  {
   "cell_type": "code",
   "execution_count": 13,
   "metadata": {
    "collapsed": true
   },
   "outputs": [],
   "source": [
    "model.model.save('race-car.h5')"
   ]
  },
  {
   "cell_type": "code",
   "execution_count": 14,
   "metadata": {},
   "outputs": [
    {
     "name": "stderr",
     "output_type": "stream",
     "text": [
      "[2017-08-30 13:41:42,784] Finished writing results. You can upload them to the scoreboard via gym.upload('C:\\\\Users\\\\lucpr\\\\Documents\\\\nn\\\\rl\\\\monitor-folder')\n"
     ]
    }
   ],
   "source": [
    "env.close()"
   ]
  },
  {
   "cell_type": "markdown",
   "metadata": {
    "collapsed": true
   },
   "source": [
    "### ---------------------------------------"
   ]
  },
  {
   "cell_type": "code",
   "execution_count": null,
   "metadata": {
    "collapsed": true
   },
   "outputs": [],
   "source": []
  }
 ],
 "metadata": {
  "anaconda-cloud": {},
  "kernelspec": {
   "display_name": "Python [conda env:tensorflow]",
   "language": "python",
   "name": "conda-env-tensorflow-py"
  },
  "language_info": {
   "codemirror_mode": {
    "name": "ipython",
    "version": 3
   },
   "file_extension": ".py",
   "mimetype": "text/x-python",
   "name": "python",
   "nbconvert_exporter": "python",
   "pygments_lexer": "ipython3",
   "version": "3.5.2"
  }
 },
 "nbformat": 4,
 "nbformat_minor": 1
}
