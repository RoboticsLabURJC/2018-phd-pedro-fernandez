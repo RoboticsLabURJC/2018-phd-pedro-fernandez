{
  "nbformat": 4,
  "nbformat_minor": 0,
  "metadata": {
    "colab": {
      "name": "short_corridor(chapter 13 REINFORCE MonteCarlo Policy Gradient Control).ipynb",
      "provenance": []
    },
    "kernelspec": {
      "name": "python3",
      "display_name": "Python 3"
    }
  },
  "cells": [
    {
      "cell_type": "code",
      "metadata": {
        "id": "Hkw8PMrlRUzd"
      },
      "source": [
        "import numpy as np\n",
        "import matplotlib\n",
        "matplotlib.use('Agg')\n",
        "import matplotlib.pyplot as plt\n",
        "from tqdm import tqdm"
      ],
      "execution_count": null,
      "outputs": []
    },
    {
      "cell_type": "code",
      "metadata": {
        "id": "vxkc4OK0Tm9q"
      },
      "source": [
        "class ReinforceAgent:\n",
        "    \"\"\"\n",
        "    ReinforceAgent that follows algorithm\n",
        "    'REINFORCE Monte-Carlo Policy-Gradient Control (episodic)'\n",
        "    \"\"\"\n",
        "    def __init__(self, alpha, gamma):\n",
        "        # set values such that initial conditions correspond to left-epsilon greedy\n",
        "        self.theta = np.array([-1.47, 1.47])\n",
        "        self.alpha = alpha\n",
        "        self.gamma = gamma\n",
        "        # first column - left, second - right\n",
        "        self.x = np.array([[0, 1],\n",
        "                           [1, 0]])\n",
        "        self.rewards = []\n",
        "        self.actions = []\n",
        "\n",
        "    def get_pi(self):\n",
        "        h = np.dot(self.theta, self.x)\n",
        "        t = np.exp(h - np.max(h))\n",
        "        pmf = t / np.sum(t)\n",
        "        # never become deterministic,\n",
        "        # guarantees episode finish\n",
        "        imin = np.argmin(pmf)\n",
        "        epsilon = 0.05\n",
        "\n",
        "        if pmf[imin] < epsilon:\n",
        "            pmf[:] = 1 - epsilon\n",
        "            pmf[imin] = epsilon\n",
        "\n",
        "        return pmf\n",
        "\n",
        "    def get_p_right(self):\n",
        "        return self.get_pi()[1]\n",
        "\n",
        "    def choose_action(self, reward):\n",
        "        if reward is not None:\n",
        "            self.rewards.append(reward)\n",
        "\n",
        "        pmf = self.get_pi()\n",
        "        go_right = np.random.uniform() <= pmf[1]\n",
        "        self.actions.append(go_right)\n",
        "\n",
        "        return go_right\n",
        "\n",
        "    def episode_end(self, last_reward):\n",
        "        self.rewards.append(last_reward)\n",
        "\n",
        "        # learn theta\n",
        "        G = np.zeros(len(self.rewards))\n",
        "        G[-1] = self.rewards[-1]\n",
        "\n",
        "        for i in range(2, len(G) + 1):\n",
        "            G[-i] = self.gamma * G[-i + 1] + self.rewards[-i]\n",
        "\n",
        "        gamma_pow = 1\n",
        "\n",
        "        for i in range(len(G)):\n",
        "            j = 1 if self.actions[i] else 0\n",
        "            pmf = self.get_pi()\n",
        "            grad_ln_pi = self.x[:, j] - np.dot(self.x, pmf)\n",
        "            update = self.alpha * gamma_pow * G[i] * grad_ln_pi\n",
        "\n",
        "            self.theta += update\n",
        "            gamma_pow *= self.gamma\n",
        "\n",
        "        self.rewards = []\n",
        "        self.actions = []\n"
      ],
      "execution_count": null,
      "outputs": []
    },
    {
      "cell_type": "code",
      "metadata": {
        "id": "vUqCSo1FU94Q"
      },
      "source": [
        "class ShortCorridor:\n",
        "    \"\"\"\n",
        "    Short corridor environment, see Example 13.1\n",
        "    \"\"\"\n",
        "    def __init__(self):\n",
        "        self.reset()\n",
        "\n",
        "    def reset(self):\n",
        "        self.state = 0\n",
        "\n",
        "    def step(self, go_right):\n",
        "        \"\"\"\n",
        "        Args:\n",
        "            go_right (bool): chosen action\n",
        "        Returns:\n",
        "            tuple of (reward, episode terminated?)\n",
        "        \"\"\"\n",
        "        if self.state == 0 or self.state == 2:\n",
        "            if go_right:\n",
        "                self.state += 1\n",
        "            else:\n",
        "                self.state = max(0, self.state - 1)\n",
        "        else:\n",
        "            if go_right:\n",
        "                self.state -= 1\n",
        "            else:\n",
        "                self.state += 1\n",
        "\n",
        "        if self.state == 3:\n",
        "            # terminal state\n",
        "            return 0, True\n",
        "        else:\n",
        "            return -1, False"
      ],
      "execution_count": null,
      "outputs": []
    },
    {
      "cell_type": "code",
      "metadata": {
        "id": "6tpOx0vBUkn4"
      },
      "source": [
        "def trial(num_episodes, agent_generator):\n",
        "    env = ShortCorridor()\n",
        "    agent = agent_generator()\n",
        "\n",
        "    rewards = np.zeros(num_episodes)\n",
        "    for episode_idx in range(num_episodes):\n",
        "        rewards_sum = 0\n",
        "        reward = None\n",
        "        env.reset()\n",
        "\n",
        "        while True:\n",
        "            go_right = agent.choose_action(reward)\n",
        "            reward, episode_end = env.step(go_right)\n",
        "            rewards_sum += reward\n",
        "\n",
        "            if episode_end:\n",
        "                agent.episode_end(reward)\n",
        "                break\n",
        "\n",
        "        rewards[episode_idx] = rewards_sum\n",
        "\n",
        "    return rewards"
      ],
      "execution_count": null,
      "outputs": []
    },
    {
      "cell_type": "code",
      "metadata": {
        "id": "G46AtoFNZwhT"
      },
      "source": [
        "class ReinforceAgent22:\n",
        "    \"\"\"\n",
        "    ReinforceAgent that follows algorithm\n",
        "    'REINFORCE Monte-Carlo Policy-Gradient Control (episodic)'\n",
        "    \"\"\"\n",
        "    def __init__(self, alpha, gamma):\n",
        "        # set values such that initial conditions correspond to left-epsilon greedy\n",
        "        self.theta = np.array([-1.47, 1.47])\n",
        "        self.alpha = alpha\n",
        "        self.gamma = gamma\n",
        "        # first column - left, second - right\n",
        "        self.x = np.array([[0, 1],\n",
        "                           [1, 0]])\n",
        "        self.rewards = []\n",
        "        self.actions = []\n",
        "\n",
        "    def get_pi(self):\n",
        "        h = np.dot(self.theta, self.x)\n",
        "        t = np.exp(h - np.max(h))\n",
        "        pmf = t / np.sum(t)\n",
        "        # never become deterministic,\n",
        "        # guarantees episode finish\n",
        "        imin = np.argmin(pmf)\n",
        "        epsilon = 0.05\n",
        "\n",
        "        if pmf[imin] < epsilon:\n",
        "            pmf[:] = 1 - epsilon\n",
        "            pmf[imin] = epsilon\n",
        "\n",
        "        return pmf\n",
        "\n",
        "    def get_p_right(self):\n",
        "        return self.get_pi()[1]\n",
        "\n",
        "    def choose_action(self, reward):\n",
        "        if reward is not None:\n",
        "            self.rewards.append(reward)\n",
        "\n",
        "        pmf = self.get_pi()\n",
        "        go_right = np.random.uniform() <= pmf[1]\n",
        "        self.actions.append(go_right)\n",
        "\n",
        "        return go_right\n",
        "\n",
        "    def episode_end(self, last_reward):\n",
        "        self.rewards.append(last_reward)\n",
        "\n",
        "        # learn theta\n",
        "        G = np.zeros(len(self.rewards))\n",
        "        G[-1] = self.rewards[-1]\n",
        "\n",
        "        for i in range(2, len(G) + 1):\n",
        "            G[-i] = self.gamma * G[-i + 1] + self.rewards[-i]\n",
        "\n",
        "        gamma_pow = 1\n",
        "\n",
        "        for i in range(len(G)):\n",
        "            j = 1 if self.actions[i] else 0\n",
        "            pmf = self.get_pi()\n",
        "            grad_ln_pi = self.x[:, j] - np.dot(self.x, pmf)\n",
        "            update = self.alpha * gamma_pow * G[i] * grad_ln_pi\n",
        "\n",
        "            self.theta += update\n",
        "            gamma_pow *= self.gamma\n",
        "\n",
        "        self.rewards = []\n",
        "        self.actions = []\n"
      ],
      "execution_count": null,
      "outputs": []
    },
    {
      "cell_type": "code",
      "metadata": {
        "id": "ZXJtDDrla2Xf"
      },
      "source": [
        "def trial2(num_episodes, agent_generator):\n",
        "    env = ShortCorridor()\n",
        "    agent = agent_generator()\n",
        "\n",
        "    rewards = np.zeros(num_episodes)\n",
        "    for episode_idx in range(num_episodes):\n",
        "        rewards_sum = 0\n",
        "        reward = None\n",
        "        env.reset()\n",
        "\n",
        "        while True:\n",
        "            go_right = agent.choose_action(reward)\n",
        "            #print(\"go_right:\", go_right)\n",
        "            reward, episode_end = env.step(go_right)\n",
        "            rewards_sum += reward\n",
        "\n",
        "            if episode_end:\n",
        "                agent.episode_end(reward)\n",
        "                break\n",
        "\n",
        "        rewards[episode_idx] = rewards_sum\n",
        "\n",
        "    return rewards"
      ],
      "execution_count": null,
      "outputs": []
    },
    {
      "cell_type": "code",
      "metadata": {
        "colab": {
          "base_uri": "https://localhost:8080/",
          "height": 1000
        },
        "id": "JzJFGJVUTmzL",
        "outputId": "86a6f031-0908-454c-d4e5-dc3ceb21c59b"
      },
      "source": [
        "if __name__ == '__main__':\n",
        "\n",
        "    num_trials = 100\n",
        "    num_episodes = 10\n",
        "    gamma = 1\n",
        "    #agent_generators = [lambda : ReinforceAgent(alpha=2e-4, gamma=gamma),\n",
        "    #                    lambda : ReinforceAgent(alpha=2e-5, gamma=gamma),\n",
        "    #                    lambda : ReinforceAgent(alpha=2e-3, gamma=gamma)]    \n",
        "    agent_generators = [lambda : ReinforceAgent22(alpha=2e-4, gamma=gamma),\n",
        "                        lambda : ReinforceAgent22(alpha=2e-5, gamma=gamma),\n",
        "                        lambda : ReinforceAgent22(alpha=2e-3, gamma=gamma)]\n",
        "    labels = ['alpha = 2e-4',\n",
        "              'alpha = 2e-5',\n",
        "              'alpha = 2e-3']\n",
        "\n",
        "    rewards = np.zeros((len(agent_generators), num_trials, num_episodes))\n",
        "\n",
        "    for agent_index, agent_generator in enumerate(agent_generators):\n",
        "        for i in tqdm(range(num_trials)):\n",
        "            \n",
        "            #reward = trial(num_episodes, agent_generator)\n",
        "            reward = trial2(num_episodes, agent_generator)\n",
        "            rewards[agent_index, i, :] = reward\n",
        "\n",
        "    plt.plot(np.arange(num_episodes) + 1, -11.6 * np.ones(num_episodes), ls='dashed', color='red', label='-11.6')\n",
        "    for i, label in enumerate(labels):\n",
        "        plt.plot(np.arange(num_episodes) + 1, rewards[i].mean(axis=0), label=label)\n",
        "    plt.ylabel('total reward on episode')\n",
        "    plt.xlabel('episode')\n",
        "    plt.legend(loc='lower right')\n",
        "\n",
        "    plt.show()\n",
        "    #plt.savefig('../images/figure_13_1.png')\n",
        "    plt.close()"
      ],
      "execution_count": null,
      "outputs": [
        {
          "output_type": "stream",
          "text": [
            "\n",
            "  0%|          | 0/100 [00:00<?, ?it/s]\u001b[A\n",
            "  2%|▏         | 2/100 [00:00<00:04, 19.87it/s]\u001b[A\n",
            "  5%|▌         | 5/100 [00:00<00:04, 21.10it/s]\u001b[A\n",
            "  8%|▊         | 8/100 [00:00<00:04, 21.67it/s]\u001b[A\n",
            " 11%|█         | 11/100 [00:00<00:03, 23.08it/s]\u001b[A\n",
            " 14%|█▍        | 14/100 [00:00<00:03, 22.76it/s]\u001b[A\n",
            " 17%|█▋        | 17/100 [00:00<00:03, 22.78it/s]\u001b[A\n",
            " 20%|██        | 20/100 [00:00<00:03, 22.43it/s]\u001b[A\n",
            " 23%|██▎       | 23/100 [00:00<00:03, 22.88it/s]\u001b[A\n",
            " 26%|██▌       | 26/100 [00:01<00:03, 23.27it/s]\u001b[A\n",
            " 29%|██▉       | 29/100 [00:01<00:02, 23.93it/s]\u001b[A\n",
            " 32%|███▏      | 32/100 [00:01<00:03, 22.43it/s]\u001b[A\n",
            " 35%|███▌      | 35/100 [00:01<00:02, 22.97it/s]\u001b[A\n",
            " 38%|███▊      | 38/100 [00:01<00:02, 22.54it/s]\u001b[A\n",
            " 41%|████      | 41/100 [00:01<00:02, 23.28it/s]\u001b[A\n",
            " 45%|████▌     | 45/100 [00:01<00:02, 24.76it/s]\u001b[A\n",
            " 48%|████▊     | 48/100 [00:02<00:02, 23.20it/s]\u001b[A\n",
            " 51%|█████     | 51/100 [00:02<00:02, 24.30it/s]\u001b[A\n",
            " 54%|█████▍    | 54/100 [00:02<00:02, 22.44it/s]\u001b[A\n",
            " 57%|█████▋    | 57/100 [00:02<00:01, 22.36it/s]\u001b[A\n",
            " 60%|██████    | 60/100 [00:02<00:01, 22.24it/s]\u001b[A\n",
            " 63%|██████▎   | 63/100 [00:02<00:01, 21.75it/s]\u001b[A\n",
            " 66%|██████▌   | 66/100 [00:02<00:01, 20.91it/s]\u001b[A\n",
            " 69%|██████▉   | 69/100 [00:03<00:01, 21.80it/s]\u001b[A\n",
            " 72%|███████▏  | 72/100 [00:03<00:01, 20.41it/s]\u001b[A\n",
            " 75%|███████▌  | 75/100 [00:03<00:01, 19.78it/s]\u001b[A\n",
            " 78%|███████▊  | 78/100 [00:03<00:01, 20.68it/s]\u001b[A\n",
            " 81%|████████  | 81/100 [00:03<00:00, 21.53it/s]\u001b[A\n",
            " 84%|████████▍ | 84/100 [00:03<00:00, 20.63it/s]\u001b[A\n",
            " 87%|████████▋ | 87/100 [00:03<00:00, 22.06it/s]\u001b[A\n",
            " 90%|█████████ | 90/100 [00:04<00:00, 20.74it/s]\u001b[A\n",
            " 93%|█████████▎| 93/100 [00:04<00:00, 20.76it/s]\u001b[A\n",
            " 96%|█████████▌| 96/100 [00:04<00:00, 21.13it/s]\u001b[A\n",
            "100%|██████████| 100/100 [00:04<00:00, 22.19it/s]\n",
            "\n",
            "  0%|          | 0/100 [00:00<?, ?it/s]\u001b[A\n",
            "  3%|▎         | 3/100 [00:00<00:04, 23.69it/s]\u001b[A\n",
            "  6%|▌         | 6/100 [00:00<00:03, 24.28it/s]\u001b[A\n",
            "  9%|▉         | 9/100 [00:00<00:03, 25.13it/s]\u001b[A\n",
            " 11%|█         | 11/100 [00:00<00:03, 22.82it/s]\u001b[A\n",
            " 13%|█▎        | 13/100 [00:00<00:04, 21.02it/s]\u001b[A\n",
            " 16%|█▌        | 16/100 [00:00<00:04, 20.69it/s]\u001b[A\n",
            " 18%|█▊        | 18/100 [00:00<00:04, 19.02it/s]\u001b[A\n",
            " 20%|██        | 20/100 [00:00<00:04, 19.25it/s]\u001b[A\n",
            " 22%|██▏       | 22/100 [00:01<00:04, 18.92it/s]\u001b[A\n",
            " 24%|██▍       | 24/100 [00:01<00:04, 18.40it/s]\u001b[A\n",
            " 27%|██▋       | 27/100 [00:01<00:03, 19.75it/s]\u001b[A\n",
            " 29%|██▉       | 29/100 [00:01<00:03, 19.30it/s]\u001b[A\n",
            " 32%|███▏      | 32/100 [00:01<00:03, 20.67it/s]\u001b[A\n",
            " 35%|███▌      | 35/100 [00:01<00:03, 21.51it/s]\u001b[A\n",
            " 38%|███▊      | 38/100 [00:01<00:02, 21.97it/s]\u001b[A\n",
            " 41%|████      | 41/100 [00:01<00:02, 23.42it/s]\u001b[A\n",
            " 44%|████▍     | 44/100 [00:02<00:02, 21.34it/s]\u001b[A\n",
            " 47%|████▋     | 47/100 [00:02<00:02, 22.37it/s]\u001b[A\n",
            " 50%|█████     | 50/100 [00:02<00:02, 21.61it/s]\u001b[A\n",
            " 53%|█████▎    | 53/100 [00:02<00:02, 19.79it/s]\u001b[A\n",
            " 56%|█████▌    | 56/100 [00:02<00:02, 19.27it/s]\u001b[A\n",
            " 58%|█████▊    | 58/100 [00:02<00:02, 19.21it/s]\u001b[A\n",
            " 60%|██████    | 60/100 [00:02<00:02, 19.29it/s]\u001b[A\n",
            " 63%|██████▎   | 63/100 [00:03<00:01, 20.32it/s]\u001b[A\n",
            " 66%|██████▌   | 66/100 [00:03<00:01, 20.04it/s]\u001b[A\n",
            " 69%|██████▉   | 69/100 [00:03<00:01, 18.11it/s]\u001b[A\n",
            " 71%|███████   | 71/100 [00:03<00:01, 17.89it/s]\u001b[A\n",
            " 73%|███████▎  | 73/100 [00:03<00:01, 17.19it/s]\u001b[A\n",
            " 75%|███████▌  | 75/100 [00:03<00:01, 15.83it/s]\u001b[A\n",
            " 77%|███████▋  | 77/100 [00:03<00:01, 15.74it/s]\u001b[A\n",
            " 80%|████████  | 80/100 [00:04<00:01, 17.01it/s]\u001b[A\n",
            " 83%|████████▎ | 83/100 [00:04<00:00, 17.98it/s]\u001b[A\n",
            " 85%|████████▌ | 85/100 [00:04<00:00, 18.26it/s]\u001b[A\n",
            " 88%|████████▊ | 88/100 [00:04<00:00, 19.10it/s]\u001b[A\n",
            " 90%|█████████ | 90/100 [00:04<00:00, 18.48it/s]\u001b[A\n",
            " 92%|█████████▏| 92/100 [00:04<00:00, 16.83it/s]\u001b[A\n",
            " 94%|█████████▍| 94/100 [00:04<00:00, 17.10it/s]\u001b[A\n",
            " 96%|█████████▌| 96/100 [00:04<00:00, 17.60it/s]\u001b[A\n",
            "100%|██████████| 100/100 [00:05<00:00, 19.68it/s]\n",
            "\n",
            "  0%|          | 0/100 [00:00<?, ?it/s]\u001b[A\n",
            "  4%|▍         | 4/100 [00:00<00:02, 32.49it/s]\u001b[A\n",
            "  8%|▊         | 8/100 [00:00<00:02, 32.61it/s]\u001b[A\n",
            " 12%|█▏        | 12/100 [00:00<00:02, 32.47it/s]\u001b[A\n",
            " 15%|█▌        | 15/100 [00:00<00:02, 29.34it/s]\u001b[A\n",
            " 20%|██        | 20/100 [00:00<00:02, 30.74it/s]\u001b[A\n",
            " 24%|██▍       | 24/100 [00:00<00:02, 30.20it/s]\u001b[A\n",
            " 27%|██▋       | 27/100 [00:00<00:02, 27.81it/s]\u001b[A\n",
            " 31%|███       | 31/100 [00:01<00:02, 28.31it/s]\u001b[A\n",
            " 35%|███▌      | 35/100 [00:01<00:02, 30.30it/s]\u001b[A\n",
            " 38%|███▊      | 38/100 [00:01<00:02, 30.09it/s]\u001b[A\n",
            " 43%|████▎     | 43/100 [00:01<00:01, 34.09it/s]\u001b[A\n",
            " 48%|████▊     | 48/100 [00:01<00:01, 35.16it/s]\u001b[A\n",
            " 53%|█████▎    | 53/100 [00:01<00:01, 35.42it/s]\u001b[A\n",
            " 58%|█████▊    | 58/100 [00:01<00:01, 38.34it/s]\u001b[A\n",
            " 62%|██████▏   | 62/100 [00:01<00:01, 36.08it/s]\u001b[A\n",
            " 67%|██████▋   | 67/100 [00:01<00:00, 38.05it/s]\u001b[A\n",
            " 71%|███████   | 71/100 [00:02<00:00, 35.11it/s]\u001b[A\n",
            " 75%|███████▌  | 75/100 [00:02<00:00, 34.13it/s]\u001b[A\n",
            " 80%|████████  | 80/100 [00:02<00:00, 33.86it/s]\u001b[A\n",
            " 84%|████████▍ | 84/100 [00:02<00:00, 35.38it/s]\u001b[A\n",
            " 88%|████████▊ | 88/100 [00:02<00:00, 34.47it/s]\u001b[A\n",
            " 92%|█████████▏| 92/100 [00:02<00:00, 31.47it/s]\u001b[A\n",
            " 96%|█████████▌| 96/100 [00:02<00:00, 31.97it/s]\u001b[A\n",
            "100%|██████████| 100/100 [00:03<00:00, 33.04it/s]\n"
          ],
          "name": "stderr"
        },
        {
          "output_type": "display_data",
          "data": {
            "image/png": "[encoded data removed]",
            "text/plain": [
              "<Figure size 432x288 with 1 Axes>"
            ]
          },
          "metadata": {
            "tags": [],
            "needs_background": "light"
          }
        }
      ]
    },
    {
      "cell_type": "code",
      "metadata": {
        "colab": {
          "base_uri": "https://localhost:8080/"
        },
        "id": "bw_d7xXCcqtU",
        "outputId": "9d43da7d-53ac-4494-8039-52f754d458b4"
      },
      "source": [
        "theta = np.array([-1.47, 1.47])\n",
        "print(theta)\n",
        "x = np.array([[0, 1],[1, 0]])\n",
        "print(x)\n",
        "\n",
        "\n",
        "h = np.dot(theta, x)\n",
        "print(\"h:\",h)\n",
        "t = np.exp(h - np.max(h))\n",
        "print(\"h - np.max(h):\",h - np.max(h))\n",
        "print(\"np.exp(h - np.max(h)):\",np.exp(h - np.max(h)))\n",
        "print(\"t:\", t)\n",
        "pmf = t / np.sum(t)\n",
        "print(\"np.sum(t):\", np.sum(t))\n",
        "print(\"pmf:\", pmf)\n",
        "\n",
        "np.exp(-2.94)\n",
        "\n",
        "\n",
        "print(\"-----\")\n",
        "\n",
        "\n",
        "imin = np.argmin(pmf)\n",
        "print(\"imin:\", imin)\n",
        "epsilon = 0.05\n",
        "\n",
        "if pmf[imin] < epsilon:\n",
        "  pmf[:] = 1 - epsilon\n",
        "  print(\"pmf[:]:\",pmf[:])\n",
        "  pmf[imin] = epsilon\n",
        "print(\"pmf:\",pmf)  "
      ],
      "execution_count": null,
      "outputs": [
        {
          "output_type": "stream",
          "text": [
            "[-1.47  1.47]\n",
            "[[0 1]\n",
            " [1 0]]\n",
            "h: [ 1.47 -1.47]\n",
            "h - np.max(h): [ 0.   -2.94]\n",
            "np.exp(h - np.max(h)): [1.         0.05286573]\n",
            "t: [1.         0.05286573]\n",
            "np.sum(t): 1.0528657287383503\n",
            "pmf: [0.94978873 0.05021127]\n",
            "-----\n",
            "imin: 1\n",
            "pmf: [0.94978873 0.05021127]\n"
          ],
          "name": "stdout"
        }
      ]
    },
    {
      "cell_type": "code",
      "metadata": {
        "colab": {
          "base_uri": "https://localhost:8080/"
        },
        "id": "tsG05eUTdNri",
        "outputId": "28d1dec3-0391-4d99-9cac-48bdeea9e3c7"
      },
      "source": [
        "go_right2 = np.random.uniform() <= pmf[1]\n",
        "print(pmf[0], pmf[1])\n",
        "print(go_right2)"
      ],
      "execution_count": null,
      "outputs": [
        {
          "output_type": "stream",
          "text": [
            "0.9497887268097336 0.05021127319026654\n",
            "False\n"
          ],
          "name": "stdout"
        }
      ]
    },
    {
      "cell_type": "code",
      "metadata": {
        "colab": {
          "base_uri": "https://localhost:8080/"
        },
        "id": "dUXx8gl-dNfx",
        "outputId": "277f2249-f877-4671-e135-337c54cf6835"
      },
      "source": [
        "np.random.uniform()\n",
        "#np.random.uniform(-1,1,20)"
      ],
      "execution_count": null,
      "outputs": [
        {
          "output_type": "execute_result",
          "data": {
            "text/plain": [
              "0.08072890429476842"
            ]
          },
          "metadata": {
            "tags": []
          },
          "execution_count": 61
        }
      ]
    },
    {
      "cell_type": "code",
      "metadata": {
        "colab": {
          "base_uri": "https://localhost:8080/",
          "height": 264
        },
        "id": "R4-eft0Xk3my",
        "outputId": "96faf967-f2bb-4809-8bc5-3a6ce1308879"
      },
      "source": [
        "count, bins, ignored = plt.hist(np.random.uniform(-1,0,10), 30, density=True)\n",
        "plt.plot(bins, np.ones_like(bins), linewidth=2, color='r')\n",
        "plt.show()"
      ],
      "execution_count": null,
      "outputs": [
        {
          "output_type": "display_data",
          "data": {
            "image/png": "[encoded data removed]",
            "text/plain": [
              "<Figure size 432x288 with 1 Axes>"
            ]
          },
          "metadata": {
            "tags": [],
            "needs_background": "light"
          }
        }
      ]
    },
    {
      "cell_type": "code",
      "metadata": {
        "colab": {
          "base_uri": "https://localhost:8080/"
        },
        "id": "iyJwdSdes32C",
        "outputId": "1bfc5ff0-695a-4c78-9b6c-c6109a815a79"
      },
      "source": [
        "0.1/2\n",
        "1-0.05"
      ],
      "execution_count": null,
      "outputs": [
        {
          "output_type": "execute_result",
          "data": {
            "text/plain": [
              "0.95"
            ]
          },
          "metadata": {
            "tags": []
          },
          "execution_count": 67
        }
      ]
    }
  ]
}