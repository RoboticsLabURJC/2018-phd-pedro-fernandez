{
  "nbformat": 4,
  "nbformat_minor": 0,
  "metadata": {
    "colab": {
      "name": "short_corridor(chapter 13 Policy approximation).ipynb",
      "provenance": []
    },
    "kernelspec": {
      "name": "python3",
      "display_name": "Python 3"
    }
  },
  "cells": [
    {
      "cell_type": "code",
      "metadata": {
        "id": "cu4nEUiGKjdd"
      },
      "source": [
        "import numpy as np\n",
        "import matplotlib\n",
        "matplotlib.use('Agg')\n",
        "import matplotlib.pyplot as plt\n",
        "from tqdm import tqdm"
      ],
      "execution_count": null,
      "outputs": []
    },
    {
      "cell_type": "code",
      "metadata": {
        "id": "HpvnkycoJYNb"
      },
      "source": [
        "def true_value(p):\n",
        "    \"\"\" True value of the first state\n",
        "    Args:\n",
        "        p (float): probability of the action 'right'.\n",
        "    Returns:\n",
        "        True value of the first state.\n",
        "        The expression is obtained by manually solving the easy linear system\n",
        "        of Bellman equations using known dynamics.\n",
        "    \"\"\"\n",
        "    return (2 * p - 4) / (p * (1 - p))"
      ],
      "execution_count": null,
      "outputs": []
    },
    {
      "cell_type": "code",
      "metadata": {
        "id": "OQSbqDXqJcbD"
      },
      "source": [
        "#def softmax(x):\n",
        "#    t = np.exp(x - np.max(x))\n",
        "#    return t / np.sum(t)"
      ],
      "execution_count": null,
      "outputs": []
    },
    {
      "cell_type": "code",
      "metadata": {
        "colab": {
          "base_uri": "https://localhost:8080/",
          "height": 294
        },
        "id": "DT_7jmm3Jkto",
        "outputId": "06060617-a8a5-4eb8-cc1a-768f86d600e4"
      },
      "source": [
        "if __name__ == '__main__':\n",
        "\n",
        "    epsilon = 0.05\n",
        "    fig, ax = plt.subplots(1, 1)\n",
        "\n",
        "    # Plot a graph\n",
        "    p = np.linspace(0.01, 0.99, 100)\n",
        "    \n",
        "    y = true_value(p)\n",
        "    ax.plot(p, y, color='red')\n",
        "\n",
        "    # Find a maximum point, can also be done analytically by taking a derivative\n",
        "    imax = np.argmax(y)\n",
        "    pmax = p[imax]\n",
        "    ymax = y[imax]\n",
        "    ax.plot(pmax, ymax, color='green', marker=\"*\", label=\"optimal point: f({0:.2f}) = {1:.2f}\".format(pmax, ymax))\n",
        "\n",
        "    # Plot points of two epsilon-greedy policies\n",
        "    ax.plot(epsilon, true_value(epsilon), color='magenta', marker=\"o\", label=\"epsilon-greedy left\")\n",
        "    ax.plot(1 - epsilon, true_value(1 - epsilon), color='blue', marker=\"o\", label=\"epsilon-greedy right\")\n",
        "\n",
        "    ax.set_ylabel(\"Value of the first state\")\n",
        "    ax.set_xlabel(\"Probability of the action 'right'\")\n",
        "    ax.set_title(\"Short corridor with switched actions\")\n",
        "    ax.set_ylim(ymin=-105.0, ymax=5)\n",
        "    ax.legend()\n",
        "\n",
        "    plt.show()\n",
        "    #plt.savefig('../images/example_13_1.png')\n",
        "    plt.close()"
      ],
      "execution_count": null,
      "outputs": [
        {
          "output_type": "display_data",
          "data": {
            "image/png": "[encoded data removed]",
            "text/plain": [
              "<Figure size 432x288 with 1 Axes>"
            ]
          },
          "metadata": {
            "tags": [],
            "needs_background": "light"
          }
        }
      ]
    },
    {
      "cell_type": "markdown",
      "metadata": {
        "id": "1IZIxgqUKra6"
      },
      "source": [
        "#=============="
      ]
    },
    {
      "cell_type": "code",
      "metadata": {
        "colab": {
          "base_uri": "https://localhost:8080/"
        },
        "id": "V4Qplj77PCDR",
        "outputId": "13c116cb-e7f6-486f-d906-2cf4ec839b2a"
      },
      "source": [
        "true_value(0.05)"
      ],
      "execution_count": null,
      "outputs": [
        {
          "output_type": "execute_result",
          "data": {
            "text/plain": [
              "-82.10526315789474"
            ]
          },
          "metadata": {
            "tags": []
          },
          "execution_count": 20
        }
      ]
    },
    {
      "cell_type": "code",
      "metadata": {
        "colab": {
          "base_uri": "https://localhost:8080/"
        },
        "id": "1qZUkj74KqVn",
        "outputId": "fcae174c-d35f-4c3f-ffe9-ca8945e5f8ca"
      },
      "source": [
        "q = np.linspace(0.01, 0.99, 100)\n",
        "print(q)\n",
        "print(q.dtype)\n",
        "print(q.size)"
      ],
      "execution_count": null,
      "outputs": [
        {
          "output_type": "stream",
          "text": [
            "[0.01       0.01989899 0.02979798 0.03969697 0.04959596 0.05949495\n",
            " 0.06939394 0.07929293 0.08919192 0.09909091 0.1089899  0.11888889\n",
            " 0.12878788 0.13868687 0.14858586 0.15848485 0.16838384 0.17828283\n",
            " 0.18818182 0.19808081 0.2079798  0.21787879 0.22777778 0.23767677\n",
            " 0.24757576 0.25747475 0.26737374 0.27727273 0.28717172 0.29707071\n",
            " 0.3069697  0.31686869 0.32676768 0.33666667 0.34656566 0.35646465\n",
            " 0.36636364 0.37626263 0.38616162 0.39606061 0.4059596  0.41585859\n",
            " 0.42575758 0.43565657 0.44555556 0.45545455 0.46535354 0.47525253\n",
            " 0.48515152 0.49505051 0.50494949 0.51484848 0.52474747 0.53464646\n",
            " 0.54454545 0.55444444 0.56434343 0.57424242 0.58414141 0.5940404\n",
            " 0.60393939 0.61383838 0.62373737 0.63363636 0.64353535 0.65343434\n",
            " 0.66333333 0.67323232 0.68313131 0.6930303  0.70292929 0.71282828\n",
            " 0.72272727 0.73262626 0.74252525 0.75242424 0.76232323 0.77222222\n",
            " 0.78212121 0.7920202  0.80191919 0.81181818 0.82171717 0.83161616\n",
            " 0.84151515 0.85141414 0.86131313 0.87121212 0.88111111 0.8910101\n",
            " 0.90090909 0.91080808 0.92070707 0.93060606 0.94050505 0.95040404\n",
            " 0.96030303 0.97020202 0.98010101 0.99      ]\n",
            "float64\n",
            "100\n"
          ],
          "name": "stdout"
        }
      ]
    },
    {
      "cell_type": "code",
      "metadata": {
        "colab": {
          "base_uri": "https://localhost:8080/"
        },
        "id": "3JiAxhJtMEfB",
        "outputId": "a9f5ae05-722e-4283-ec46-f73fb32d7ecd"
      },
      "source": [
        "h = (2 * q - 4) / (q * (1 - q))\n",
        "print(h)\n",
        "imax2 = np.argmax(h)\n",
        "print(imax2)\n",
        "print(p[imax2])\n",
        "print(h[imax2])"
      ],
      "execution_count": null,
      "outputs": [
        {
          "output_type": "stream",
          "text": [
            "[-402.02020202 -203.05583442 -136.29871448 -102.8460347   -82.75609932\n",
            "  -69.35911465  -59.79105849  -52.61810343  -47.0429644   -42.5869523\n",
            "  -38.94529221  -35.9147211   -33.3544757   -31.16398782  -29.26949537\n",
            "  -27.6156712   -26.16020462  -24.8701881   -23.71964447  -22.68779556\n",
            "  -21.75782532  -20.9159801   -20.15090367  -19.45313829  -18.81474566\n",
            "  -18.22901521  -17.69023732  -17.19352511  -16.73467311  -16.31004427\n",
            "  -15.91647887  -15.55122047  -15.21185551  -14.8962635   -14.60257582\n",
            "  -14.32914152  -14.07449865  -13.83735022  -13.61654392  -13.41105499\n",
            "  -13.21997167  -13.04248282  -12.8778674   -12.72548546  -12.58477054\n",
            "  -12.45522311  -12.33640509  -12.22793518  -12.12948499  -12.04077584\n",
            "  -11.96157616  -11.89169953  -11.8310032   -11.77938713  -11.73679352\n",
            "  -11.70320691  -11.67865467  -11.66320811  -11.65698411  -11.66014737\n",
            "  -11.67291335  -11.69555187  -11.72839171  -11.77182608  -11.82631931\n",
            "  -11.89241482  -11.97074481  -12.06204179  -12.16715245  -12.28705447\n",
            "  -12.42287671  -12.57592377  -12.74770595  -12.93997596  -13.15477423\n",
            "  -13.39448519  -13.66190769  -13.96034392  -14.29371264  -14.66669483\n",
            "  -15.0849231   -15.55523097  -16.08598526  -16.68753581  -17.3728338\n",
            "  -18.15829734  -19.06504774  -20.12071611  -21.36215248  -22.8396113\n",
            "  -24.62344588  -26.81526062  -29.56741705  -33.11923488  -37.86933286\n",
            "  -44.5346019   -54.54703124  -71.24149675 -104.58882621 -204.04040404]\n",
            "58\n",
            "0.5841414141414141\n",
            "-11.656984105456635\n"
          ],
          "name": "stdout"
        }
      ]
    },
    {
      "cell_type": "code",
      "metadata": {
        "id": "9kAgpHK1OBfC"
      },
      "source": [
        "xx = (2*0.59) - 4"
      ],
      "execution_count": null,
      "outputs": []
    },
    {
      "cell_type": "code",
      "metadata": {
        "id": "KyVHJsZROITc"
      },
      "source": [
        "xx2 = 0.59*(1-0.59)"
      ],
      "execution_count": null,
      "outputs": []
    },
    {
      "cell_type": "code",
      "metadata": {
        "colab": {
          "base_uri": "https://localhost:8080/"
        },
        "id": "U59SZr-0OORs",
        "outputId": "c0a8584b-e401-436f-8ced-b5c54cf7300b"
      },
      "source": [
        "xx/xx2"
      ],
      "execution_count": null,
      "outputs": [
        {
          "output_type": "execute_result",
          "data": {
            "text/plain": [
              "-11.657709797436958"
            ]
          },
          "metadata": {
            "tags": []
          },
          "execution_count": 28
        }
      ]
    }
  ]
}