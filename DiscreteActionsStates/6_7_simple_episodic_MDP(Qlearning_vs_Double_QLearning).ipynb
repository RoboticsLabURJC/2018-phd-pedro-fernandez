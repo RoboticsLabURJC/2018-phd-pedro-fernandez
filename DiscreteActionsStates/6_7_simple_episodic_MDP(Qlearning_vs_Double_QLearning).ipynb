{
 "cells": [
  {
   "cell_type": "code",
   "execution_count": 2,
   "metadata": {
    "id": "WA6UcmjgHkeF"
   },
   "outputs": [],
   "source": [
    "import numpy as np\n",
    "import matplotlib\n",
    "#matplotlib.use('Agg')\n",
    "import matplotlib.pyplot as plt\n",
    "from tqdm import tqdm\n",
    "import copy"
   ]
  },
  {
   "cell_type": "code",
   "execution_count": 13,
   "metadata": {
    "id": "60lzXNzDH49A"
   },
   "outputs": [],
   "source": [
    "# state A\n",
    "STATE_A = 0\n",
    "\n",
    "# state B\n",
    "STATE_B = 1\n",
    "\n",
    "# use one terminal state\n",
    "STATE_TERMINAL = 2\n",
    "\n",
    "# starts from state A\n",
    "STATE_START = STATE_A\n",
    "\n",
    "# possible actions in A\n",
    "ACTION_A_RIGHT = 0\n",
    "ACTION_A_LEFT = 1\n",
    "\n",
    "# probability for exploration\n",
    "EPSILON = 0.1\n",
    "\n",
    "# step size\n",
    "ALPHA = 0.1\n",
    "\n",
    "# discount for max value\n",
    "GAMMA = 1.0\n",
    "\n",
    "# possible actions in B, maybe 10 actions\n",
    "ACTIONS_B = range(0, 10)\n",
    "\n",
    "# all possible actions\n",
    "STATE_ACTIONS = [[ACTION_A_RIGHT, ACTION_A_LEFT], ACTIONS_B]\n",
    "\n",
    "# state action pair values, if a state is a terminal state, then the value is always 0\n",
    "INITIAL_Q = [np.zeros(2), np.zeros(len(ACTIONS_B)), np.zeros(1)]\n",
    "#INITIAL_Q\n",
    "# set up destination for each state and each action\n",
    "TRANSITION = [[STATE_TERMINAL, STATE_B], [STATE_TERMINAL] * len(ACTIONS_B)]\n"
   ]
  },
  {
   "cell_type": "code",
   "execution_count": 7,
   "metadata": {},
   "outputs": [
    {
     "data": {
      "text/plain": [
       "1"
      ]
     },
     "execution_count": 7,
     "metadata": {},
     "output_type": "execute_result"
    }
   ],
   "source": [
    "np.random.binomial(1, EPSILON)"
   ]
  },
  {
   "cell_type": "code",
   "execution_count": 14,
   "metadata": {},
   "outputs": [
    {
     "data": {
      "text/plain": [
       "[array([0., 0.]), array([0., 0., 0., 0., 0., 0., 0., 0., 0., 0.]), array([0.])]"
      ]
     },
     "execution_count": 14,
     "metadata": {},
     "output_type": "execute_result"
    }
   ],
   "source": [
    "INITIAL_Q"
   ]
  },
  {
   "cell_type": "code",
   "execution_count": 9,
   "metadata": {},
   "outputs": [
    {
     "data": {
      "text/plain": [
       "0"
      ]
     },
     "execution_count": 9,
     "metadata": {},
     "output_type": "execute_result"
    }
   ],
   "source": [
    "np.random.choice(STATE_ACTIONS[STATE_A])"
   ]
  },
  {
   "cell_type": "code",
   "execution_count": 12,
   "metadata": {},
   "outputs": [
    {
     "data": {
      "text/plain": [
       "array([0., 0.])"
      ]
     },
     "execution_count": 12,
     "metadata": {},
     "output_type": "execute_result"
    }
   ],
   "source": [
    "values_ = INITIAL_Q[STATE_A]\n",
    "values_"
   ]
  },
  {
   "cell_type": "code",
   "execution_count": 17,
   "metadata": {},
   "outputs": [
    {
     "data": {
      "text/plain": [
       "0"
      ]
     },
     "execution_count": 17,
     "metadata": {},
     "output_type": "execute_result"
    }
   ],
   "source": [
    "np.random.choice([action_ for action_, value_ in enumerate(values_) if value_ == np.max(values_)])"
   ]
  },
  {
   "cell_type": "code",
   "execution_count": 20,
   "metadata": {},
   "outputs": [
    {
     "data": {
      "text/plain": [
       "array([-0.17228401,  1.54440457, -1.25964541, -1.23408168,  0.28629757,\n",
       "       -2.02383965, -0.30580002, -1.19642482, -0.06107806,  0.19951986])"
      ]
     },
     "execution_count": 20,
     "metadata": {},
     "output_type": "execute_result"
    }
   ],
   "source": [
    "np.random.normal(-0.1, 1, 10)"
   ]
  },
  {
   "cell_type": "code",
   "execution_count": 3,
   "metadata": {
    "id": "nQfiefqTH45h"
   },
   "outputs": [],
   "source": [
    "# choose an action based on epsilon greedy algorithm\n",
    "def choose_action(state, q_value):\n",
    "    if np.random.binomial(1, EPSILON) == 1:\n",
    "        return np.random.choice(STATE_ACTIONS[state])\n",
    "    else:\n",
    "        values_ = q_value[state]\n",
    "        return np.random.choice([action_ for action_, value_ in enumerate(values_) if value_ == np.max(values_)])\n"
   ]
  },
  {
   "cell_type": "code",
   "execution_count": 4,
   "metadata": {
    "id": "oCNmntRwH4zE"
   },
   "outputs": [],
   "source": [
    "# take @action in @state, return the reward\n",
    "def take_action(state, action):\n",
    "    if state == STATE_A:\n",
    "        return 0\n",
    "    return np.random.normal(-0.1, 1)"
   ]
  },
  {
   "cell_type": "code",
   "execution_count": 5,
   "metadata": {
    "id": "KjCapUwNH4q_"
   },
   "outputs": [],
   "source": [
    "# if there are two state action pair value array, use double Q-Learning\n",
    "# otherwise use normal Q-Learning\n",
    "def q_learning(q1, q2=None):\n",
    "    state = STATE_START\n",
    "    # track the # of action left in state A\n",
    "    left_count = 0\n",
    "    while state != STATE_TERMINAL:\n",
    "        if q2 is None:\n",
    "            action = choose_action(state, q1)\n",
    "        else:\n",
    "            # derive a action form Q1 and Q2\n",
    "            action = choose_action(state, [item1 + item2 for item1, item2 in zip(q1, q2)])\n",
    "        if state == STATE_A and action == ACTION_A_LEFT:\n",
    "            left_count += 1\n",
    "        reward = take_action(state, action)\n",
    "        next_state = TRANSITION[state][action]\n",
    "        if q2 is None:\n",
    "            active_q = q1\n",
    "            target = np.max(active_q[next_state])\n",
    "        else:\n",
    "            if np.random.binomial(1, 0.5) == 1:\n",
    "                active_q = q1\n",
    "                target_q = q2\n",
    "            else:\n",
    "                active_q = q2\n",
    "                target_q = q1\n",
    "            best_action = np.random.choice([action_ for action_, value_ in enumerate(active_q[next_state]) if value_ == np.max(active_q[next_state])])\n",
    "            target = target_q[next_state][best_action]\n",
    "\n",
    "        # Q-Learning update\n",
    "        active_q[state][action] += ALPHA * (\n",
    "            reward + GAMMA * target - active_q[state][action])\n",
    "        state = next_state\n",
    "    return left_count"
   ]
  },
  {
   "cell_type": "code",
   "execution_count": 6,
   "metadata": {
    "colab": {
     "base_uri": "https://localhost:8080/",
     "height": 296
    },
    "id": "HEfo0XvYIETp",
    "outputId": "4e691590-a550-4524-ddbe-0a6da66614bc"
   },
   "outputs": [
    {
     "name": "stderr",
     "output_type": "stream",
     "text": [
      "100%|██████████| 1000/1000 [00:45<00:00, 22.04it/s]\n"
     ]
    },
    {
     "data": {
      "image/png": "[encoded data removed]",
      "text/plain": [
       "<Figure size 432x288 with 1 Axes>"
      ]
     },
     "metadata": {
      "needs_background": "light",
      "tags": []
     },
     "output_type": "display_data"
    }
   ],
   "source": [
    "if __name__ == '__main__':\n",
    "\n",
    "    # each independent run has 300 episodes\n",
    "    episodes = 300\n",
    "    runs = 1000\n",
    "    left_counts_q = np.zeros((runs, episodes))\n",
    "    left_counts_double_q = np.zeros((runs, episodes))\n",
    "    for run in tqdm(range(runs)):\n",
    "        q = copy.deepcopy(INITIAL_Q)\n",
    "        q1 = copy.deepcopy(INITIAL_Q)\n",
    "        q2 = copy.deepcopy(INITIAL_Q)\n",
    "        for ep in range(0, episodes):\n",
    "            left_counts_q[run, ep] = q_learning(q)\n",
    "            left_counts_double_q[run, ep] = q_learning(q1, q2)\n",
    "    left_counts_q = left_counts_q.mean(axis=0)\n",
    "    left_counts_double_q = left_counts_double_q.mean(axis=0)\n",
    "\n",
    "    plt.plot(left_counts_q, label='Q-Learning')\n",
    "    plt.plot(left_counts_double_q, label='Double Q-Learning')\n",
    "    plt.plot(np.ones(episodes) * 0.05, label='Optimal')\n",
    "    plt.xlabel('episodes')\n",
    "    plt.ylabel('% left actions from A')\n",
    "    plt.legend()\n",
    "\n",
    "    plt.show()\n",
    "    #plt.savefig('../images/figure_6_7.png')\n",
    "    plt.close()\n"
   ]
  }
 ],
 "metadata": {
  "colab": {
   "name": "6_7_simple_episodic_MDP(Qlearning vs Double QLearning).ipynb",
   "provenance": []
  },
  "kernelspec": {
   "display_name": "Python 3",
   "language": "python",
   "name": "python3"
  },
  "language_info": {
   "codemirror_mode": {
    "name": "ipython",
    "version": 3
   },
   "file_extension": ".py",
   "mimetype": "text/x-python",
   "name": "python",
   "nbconvert_exporter": "python",
   "pygments_lexer": "ipython3",
   "version": "3.9.1"
  }
 },
 "nbformat": 4,
 "nbformat_minor": 4
}
