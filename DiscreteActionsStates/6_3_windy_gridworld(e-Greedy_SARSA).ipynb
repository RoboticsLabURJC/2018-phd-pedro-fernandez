{
 "cells": [
  {
   "cell_type": "code",
   "execution_count": 1,
   "metadata": {
    "executionInfo": {
     "elapsed": 601,
     "status": "ok",
     "timestamp": 1612186338828,
     "user": {
      "displayName": "Pedro Fernández de Cabo",
      "photoUrl": "https://lh3.googleusercontent.com/a-/AOh14GgeGRStP0VEhwfus8Iy8fiAgXrKeQKS4F1Uj_nyI5c=s64",
      "userId": "11364016381284516025"
     },
     "user_tz": 300
    },
    "id": "IxC6TEdMycCm"
   },
   "outputs": [],
   "source": [
    "import numpy as np\n",
    "import matplotlib\n",
    "#matplotlib.use('Agg')\n",
    "import matplotlib.pyplot as plt"
   ]
  },
  {
   "cell_type": "code",
   "execution_count": 2,
   "metadata": {
    "executionInfo": {
     "elapsed": 553,
     "status": "ok",
     "timestamp": 1612186352900,
     "user": {
      "displayName": "Pedro Fernández de Cabo",
      "photoUrl": "https://lh3.googleusercontent.com/a-/AOh14GgeGRStP0VEhwfus8Iy8fiAgXrKeQKS4F1Uj_nyI5c=s64",
      "userId": "11364016381284516025"
     },
     "user_tz": 300
    },
    "id": "aYd5sP_-y3EI"
   },
   "outputs": [],
   "source": [
    "# world height\n",
    "WORLD_HEIGHT = 7\n",
    "\n",
    "# world width\n",
    "WORLD_WIDTH = 10\n",
    "\n",
    "# wind strength for each column\n",
    "WIND = [0, 0, 0, 1, 1, 1, 2, 2, 1, 0]\n",
    "\n",
    "# possible actions\n",
    "ACTION_UP = 0\n",
    "ACTION_DOWN = 1\n",
    "ACTION_LEFT = 2\n",
    "ACTION_RIGHT = 3\n",
    "\n",
    "# probability for exploration\n",
    "EPSILON = 0.1\n",
    "\n",
    "# Sarsa step size\n",
    "ALPHA = 0.5\n",
    "\n",
    "# reward for each step\n",
    "REWARD = -1.0\n",
    "\n",
    "START = [3, 0]\n",
    "GOAL = [3, 7]\n",
    "ACTIONS = [ACTION_UP, ACTION_DOWN, ACTION_LEFT, ACTION_RIGHT]"
   ]
  },
  {
   "cell_type": "code",
   "execution_count": 3,
   "metadata": {
    "executionInfo": {
     "elapsed": 605,
     "status": "ok",
     "timestamp": 1612186463708,
     "user": {
      "displayName": "Pedro Fernández de Cabo",
      "photoUrl": "https://lh3.googleusercontent.com/a-/AOh14GgeGRStP0VEhwfus8Iy8fiAgXrKeQKS4F1Uj_nyI5c=s64",
      "userId": "11364016381284516025"
     },
     "user_tz": 300
    },
    "id": "yQb_zIPazR-i"
   },
   "outputs": [],
   "source": [
    "def step(state, action):\n",
    "    i, j = state\n",
    "    if action == ACTION_UP:\n",
    "        return [max(i - 1 - WIND[j], 0), j]\n",
    "    elif action == ACTION_DOWN:\n",
    "        return [max(min(i + 1 - WIND[j], WORLD_HEIGHT - 1), 0), j]\n",
    "    elif action == ACTION_LEFT:\n",
    "        return [max(i - WIND[j], 0), max(j - 1, 0)]\n",
    "    elif action == ACTION_RIGHT:\n",
    "        return [max(i - WIND[j], 0), min(j + 1, WORLD_WIDTH - 1)]\n",
    "    else:\n",
    "        assert False"
   ]
  },
  {
   "cell_type": "code",
   "execution_count": 4,
   "metadata": {
    "executionInfo": {
     "elapsed": 489,
     "status": "ok",
     "timestamp": 1612186440432,
     "user": {
      "displayName": "Pedro Fernández de Cabo",
      "photoUrl": "https://lh3.googleusercontent.com/a-/AOh14GgeGRStP0VEhwfus8Iy8fiAgXrKeQKS4F1Uj_nyI5c=s64",
      "userId": "11364016381284516025"
     },
     "user_tz": 300
    },
    "id": "y6R-cdw-y8Xn"
   },
   "outputs": [],
   "source": [
    "def episode(q_value):\n",
    "    # track the total time steps in this episode\n",
    "    time = 0\n",
    "\n",
    "    # initialize state\n",
    "    state = START\n",
    "\n",
    "    # choose an action based on epsilon-greedy algorithm\n",
    "    if np.random.binomial(1, EPSILON) == 1:\n",
    "        action = np.random.choice(ACTIONS)\n",
    "    else:\n",
    "        values_ = q_value[state[0], state[1], :]\n",
    "        action = np.random.choice([action_ for action_, value_ in enumerate(values_) if value_ == np.max(values_)])\n",
    "\n",
    "    # keep going until get to the goal state\n",
    "    while state != GOAL:\n",
    "        next_state = step(state, action)\n",
    "        if np.random.binomial(1, EPSILON) == 1:\n",
    "            next_action = np.random.choice(ACTIONS)\n",
    "        else:\n",
    "            values_ = q_value[next_state[0], next_state[1], :]\n",
    "            next_action = np.random.choice([action_ for action_, value_ in enumerate(values_) if value_ == np.max(values_)])\n",
    "\n",
    "        # Sarsa update\n",
    "        q_value[state[0], state[1], action] += \\\n",
    "            ALPHA * (REWARD + q_value[next_state[0], next_state[1], next_action] -\n",
    "                     q_value[state[0], state[1], action])\n",
    "        state = next_state\n",
    "        action = next_action\n",
    "        time += 1\n",
    "    return time"
   ]
  },
  {
   "cell_type": "code",
   "execution_count": 5,
   "metadata": {
    "colab": {
     "base_uri": "https://localhost:8080/",
     "height": 650
    },
    "executionInfo": {
     "elapsed": 1244,
     "status": "error",
     "timestamp": 1612186468260,
     "user": {
      "displayName": "Pedro Fernández de Cabo",
      "photoUrl": "https://lh3.googleusercontent.com/a-/AOh14GgeGRStP0VEhwfus8Iy8fiAgXrKeQKS4F1Uj_nyI5c=s64",
      "userId": "11364016381284516025"
     },
     "user_tz": 300
    },
    "id": "IAvX3kY6y8OX",
    "outputId": "fd5dd20b-6978-4f10-a2af-5d663dc30790"
   },
   "outputs": [
    {
     "name": "stdout",
     "output_type": "stream",
     "text": [
      "Optimal policy is:\n",
      "['R', 'R', 'R', 'R', 'R', 'R', 'R', 'R', 'R', 'D']\n",
      "['U', 'R', 'R', 'R', 'R', 'R', 'R', 'R', 'L', 'D']\n",
      "['R', 'R', 'R', 'R', 'R', 'R', 'R', 'R', 'D', 'D']\n",
      "['R', 'R', 'R', 'R', 'R', 'R', 'R', 'G', 'R', 'D']\n",
      "['D', 'U', 'D', 'R', 'D', 'R', 'U', 'D', 'L', 'L']\n",
      "['R', 'R', 'R', 'R', 'R', 'U', 'U', 'D', 'L', 'D']\n",
      "['U', 'R', 'R', 'R', 'U', 'U', 'U', 'U', 'U', 'L']\n",
      "Wind strength for each column:\n",
      "['0', '0', '0', '1', '1', '1', '2', '2', '1', '0']\n"
     ]
    }
   ],
   "source": [
    "if __name__ == '__main__':\n",
    "\n",
    "    q_value = np.zeros((WORLD_HEIGHT, WORLD_WIDTH, 4))\n",
    "    episode_limit = 500\n",
    "\n",
    "    steps = []\n",
    "    ep = 0\n",
    "    while ep < episode_limit:\n",
    "        steps.append(episode(q_value))\n",
    "        # time = episode(q_value)\n",
    "        # episodes.extend([ep] * time)\n",
    "        ep += 1\n",
    "\n",
    "    steps = np.add.accumulate(steps)\n",
    "\n",
    "    plt.plot(steps, np.arange(1, len(steps) + 1))\n",
    "    plt.xlabel('Time steps')\n",
    "    plt.ylabel('Episodes')\n",
    "\n",
    "    plt.savefig('../images/figure_6_3.png')\n",
    "    plt.close()\n",
    "\n",
    "    # display the optimal policy\n",
    "    optimal_policy = []\n",
    "    for i in range(0, WORLD_HEIGHT):\n",
    "        optimal_policy.append([])\n",
    "        for j in range(0, WORLD_WIDTH):\n",
    "            if [i, j] == GOAL:\n",
    "                optimal_policy[-1].append('G')\n",
    "                continue\n",
    "            bestAction = np.argmax(q_value[i, j, :])\n",
    "            if bestAction == ACTION_UP:\n",
    "                optimal_policy[-1].append('U')\n",
    "            elif bestAction == ACTION_DOWN:\n",
    "                optimal_policy[-1].append('D')\n",
    "            elif bestAction == ACTION_LEFT:\n",
    "                optimal_policy[-1].append('L')\n",
    "            elif bestAction == ACTION_RIGHT:\n",
    "                optimal_policy[-1].append('R')\n",
    "    print('Optimal policy is:')\n",
    "    for row in optimal_policy:\n",
    "        print(row)\n",
    "    print('Wind strength for each column:\\n{}'.format([str(w) for w in WIND]))\n"
   ]
  }
 ],
 "metadata": {
  "colab": {
   "authorship_tag": "ABX9TyMTr4FbQhKz8KOBlfY+SN5b",
   "name": "6_3_windy_gridworld(e-Greedy SARSA).ipynb",
   "provenance": []
  },
  "kernelspec": {
   "display_name": "Python 3",
   "language": "python",
   "name": "python3"
  },
  "language_info": {
   "codemirror_mode": {
    "name": "ipython",
    "version": 3
   },
   "file_extension": ".py",
   "mimetype": "text/x-python",
   "name": "python",
   "nbconvert_exporter": "python",
   "pygments_lexer": "ipython3",
   "version": "3.9.1"
  }
 },
 "nbformat": 4,
 "nbformat_minor": 4
}
