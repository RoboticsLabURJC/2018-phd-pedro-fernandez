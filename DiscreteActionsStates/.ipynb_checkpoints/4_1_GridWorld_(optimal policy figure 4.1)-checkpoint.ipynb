{
  "nbformat": 4,
  "nbformat_minor": 0,
  "metadata": {
    "colab": {
      "name": "4_GridWorld_Chapter 4(figure 4.1).ipynb",
      "provenance": []
    },
    "kernelspec": {
      "name": "python3",
      "display_name": "Python 3"
    }
  },
  "cells": [
    {
      "cell_type": "code",
      "metadata": {
        "id": "LpC_1SaCarZJ"
      },
      "source": [
        "import matplotlib\n",
        "import matplotlib.pyplot as plt\n",
        "import numpy as np\n",
        "from matplotlib.table import Table"
      ],
      "execution_count": null,
      "outputs": []
    },
    {
      "cell_type": "code",
      "metadata": {
        "id": "gex0q68Qaxlp"
      },
      "source": [
        "matplotlib.use('Agg')\n",
        "\n",
        "WORLD_SIZE = 4\n",
        "# left, up, right, down\n",
        "ACTIONS = [np.array([0, -1]),\n",
        "           np.array([-1, 0]),\n",
        "           np.array([0, 1]),\n",
        "           np.array([1, 0])]\n",
        "ACTION_PROB = 0.25"
      ],
      "execution_count": null,
      "outputs": []
    },
    {
      "cell_type": "code",
      "metadata": {
        "id": "nreyFSTcrA8t"
      },
      "source": [
        "def is_terminal(state):\n",
        "    x, y = state\n",
        "    return (x == 0 and y == 0) or (x == WORLD_SIZE - 1 and y == WORLD_SIZE - 1)\n",
        "\n",
        "\n"
      ],
      "execution_count": null,
      "outputs": []
    },
    {
      "cell_type": "code",
      "metadata": {
        "id": "BJyXyUGKrAcy"
      },
      "source": [
        "\n",
        "\n",
        "\n",
        "def step(state, action):\n",
        "    if is_terminal(state):\n",
        "        return state, 0\n",
        "\n",
        "    next_state = (np.array(state) + action).tolist()\n",
        "    x, y = next_state\n",
        "\n",
        "    if x < 0 or x >= WORLD_SIZE or y < 0 or y >= WORLD_SIZE:\n",
        "        next_state = state\n",
        "\n",
        "    reward = -1\n",
        "    return next_state, reward"
      ],
      "execution_count": null,
      "outputs": []
    },
    {
      "cell_type": "code",
      "metadata": {
        "id": "DaM08-m7rJMO"
      },
      "source": [
        "def draw_image(image):\n",
        "    fig, ax = plt.subplots()\n",
        "    ax.set_axis_off()\n",
        "    tb = Table(ax, bbox=[0, 0, 1, 1])\n",
        "\n",
        "    nrows, ncols = image.shape\n",
        "    width, height = 1.0 / ncols, 1.0 / nrows\n",
        "\n",
        "    # Add cells\n",
        "    for (i, j), val in np.ndenumerate(image):\n",
        "        tb.add_cell(i, j, width, height, text=val,\n",
        "                    loc='center', facecolor='white')\n",
        "\n",
        "        # Row and column labels...\n",
        "    for i in range(len(image)):\n",
        "        tb.add_cell(i, -1, width, height, text=i+1, loc='right',\n",
        "                    edgecolor='none', facecolor='none')\n",
        "        tb.add_cell(-1, i, width, height/2, text=i+1, loc='center',\n",
        "                    edgecolor='none', facecolor='none')\n",
        "    ax.add_table(tb)"
      ],
      "execution_count": null,
      "outputs": []
    },
    {
      "cell_type": "code",
      "metadata": {
        "id": "Jd6UQch6axjq"
      },
      "source": [
        "def compute_state_value(in_place=True, discount=1.0):\n",
        "    new_state_values = np.zeros((WORLD_SIZE, WORLD_SIZE))\n",
        "    iteration = 0\n",
        "    while True:\n",
        "        if in_place:\n",
        "            state_values = new_state_values\n",
        "        else:\n",
        "            state_values = new_state_values.copy()\n",
        "        old_state_values = state_values.copy()\n",
        "\n",
        "        for i in range(WORLD_SIZE):\n",
        "            for j in range(WORLD_SIZE):\n",
        "                value = 0\n",
        "                for action in ACTIONS:\n",
        "                    (next_i, next_j), reward = step([i, j], action)\n",
        "                    value += ACTION_PROB * (reward + discount * state_values[next_i, next_j])\n",
        "                new_state_values[i, j] = value\n",
        "\n",
        "        max_delta_value = abs(old_state_values - new_state_values).max()\n",
        "        if max_delta_value < 1e-4:\n",
        "            break\n",
        "\n",
        "        iteration += 1\n",
        "\n",
        "    return new_state_values, iteration"
      ],
      "execution_count": null,
      "outputs": []
    },
    {
      "cell_type": "code",
      "metadata": {
        "colab": {
          "base_uri": "https://localhost:8080/"
        },
        "id": "txUU6l4daxgN",
        "outputId": "74ae37e4-942d-45a0-d0db-5c1e33c3c839"
      },
      "source": [
        "if __name__ == '__main__':\n",
        "\n",
        "    # While the author suggests using in-place iterative policy evaluation,\n",
        "    # Figure 4.1 actually uses out-of-place version.\n",
        "    _, asycn_iteration = compute_state_value(in_place=True)\n",
        "    values, sync_iteration = compute_state_value(in_place=False)\n",
        "    draw_image(np.round(values, decimals=2))\n",
        "    print('In-place: {} iterations'.format(asycn_iteration))\n",
        "    print('Synchronous: {} iterations'.format(sync_iteration))\n",
        "\n",
        "    #plt.savefig('../images/figure_4_1.png')\n",
        "    plt.show()\n",
        "    plt.close()  "
      ],
      "execution_count": null,
      "outputs": [
        {
          "output_type": "stream",
          "text": [
            "In-place: 113 iterations\n",
            "Synchronous: 172 iterations\n"
          ],
          "name": "stdout"
        }
      ]
    },
    {
      "cell_type": "code",
      "metadata": {
        "id": "TFxIuMOXaxdo"
      },
      "source": [
        ""
      ],
      "execution_count": null,
      "outputs": []
    },
    {
      "cell_type": "code",
      "metadata": {
        "id": "gXv7nvQJaxbF"
      },
      "source": [
        ""
      ],
      "execution_count": null,
      "outputs": []
    },
    {
      "cell_type": "code",
      "metadata": {
        "id": "-knEgy2WaxYV"
      },
      "source": [
        ""
      ],
      "execution_count": null,
      "outputs": []
    },
    {
      "cell_type": "code",
      "metadata": {
        "id": "pBST05RaaxVg"
      },
      "source": [
        ""
      ],
      "execution_count": null,
      "outputs": []
    },
    {
      "cell_type": "code",
      "metadata": {
        "id": "-9hhMP7LaxSr"
      },
      "source": [
        ""
      ],
      "execution_count": null,
      "outputs": []
    },
    {
      "cell_type": "code",
      "metadata": {
        "id": "r8O25tLUaxNg"
      },
      "source": [
        ""
      ],
      "execution_count": null,
      "outputs": []
    },
    {
      "cell_type": "code",
      "metadata": {
        "id": "0-9zpxKBaxGq"
      },
      "source": [
        ""
      ],
      "execution_count": null,
      "outputs": []
    }
  ]
}